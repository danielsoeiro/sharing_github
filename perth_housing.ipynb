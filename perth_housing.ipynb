{
 "cells": [
  {
   "cell_type": "markdown",
   "metadata": {},
   "source": [
    "# Introduction"
   ]
  },
  {
   "cell_type": "markdown",
   "metadata": {},
   "source": [
    "Before we get started, it's important to know in a basic level some aspects of Apache Spark. \n",
    "\n",
    "The world is facing a real challenge when it comes to data processing. Single machines do not have enough power and resources to perform computations on huge amounts of information (or the user may not have time to wait for the computation to finish).\n",
    "\n",
    "A cluster, or group of machines, pools the resources of many machines together allowing us to use all the cumulative resources as if they were one. Now a group of machines alone is not powerful, you need a framework to coordinate work across them. \n",
    "\n",
    "Spark is a tool for just that, managing and coordinating the execution of tasks on data across a cluster of computers.\n"
   ]
  },
  {
   "cell_type": "markdown",
   "metadata": {},
   "source": [
    "The purpose of this notebook is to present some features and capabilities that Spark may provide in terms of combining Python and SQL for those who are accustomed to working with both languages. "
   ]
  },
  {
   "cell_type": "markdown",
   "metadata": {},
   "source": [
    "#### Lazy Evaluation\n",
    "All transformations in Spark are lazy, in that they do not compute their results right away. \n",
    "\n",
    "Instead, they just remember the transformations applied to some base dataset. The transformations are only computed when an action requires a result to be returned to the driver program. \n",
    "\n",
    "This design enables Spark to run more efficiently. \n",
    "\n",
    "For example, we can realize that a dataset created through map will be used in a reduce and return only the result of the reduce to the driver, rather than the larger mapped dataset.\n",
    "\n",
    "This Wikipedia article about Lazy evaluation in computer programming theory may help with the concept:\n",
    "\n",
    "https://en.wikipedia.org/wiki/Lazy_evaluation"
   ]
  },
  {
   "cell_type": "markdown",
   "metadata": {},
   "source": [
    "Let's check with a quick practical example what this means in Python language"
   ]
  },
  {
   "cell_type": "code",
   "execution_count": 1,
   "metadata": {},
   "outputs": [],
   "source": [
    "x = [1, 2, 3, 4, 5]"
   ]
  },
  {
   "cell_type": "markdown",
   "metadata": {},
   "source": [
    "If you want to get the square number of each element in x we can use the lambda function."
   ]
  },
  {
   "cell_type": "code",
   "execution_count": 2,
   "metadata": {},
   "outputs": [
    {
     "name": "stdout",
     "output_type": "stream",
     "text": [
      "<map object at 0x7ffa6bfead00>\n"
     ]
    }
   ],
   "source": [
    "x_squared = map(lambda k: k**2, x)\n",
    "print(x_squared)"
   ]
  },
  {
   "cell_type": "markdown",
   "metadata": {},
   "source": [
    "As you can see, x_squared is a map object and not a list = [1, 4, 9, 16, 25]  as you may expect.\n",
    "\n",
    "This means that it has not been computed right away."
   ]
  },
  {
   "cell_type": "markdown",
   "metadata": {},
   "source": [
    "Although x_squared is a map object, we can still apply operations without computing them.\n",
    "\n",
    "Let's get just the even numbers."
   ]
  },
  {
   "cell_type": "code",
   "execution_count": 3,
   "metadata": {},
   "outputs": [
    {
     "name": "stdout",
     "output_type": "stream",
     "text": [
      "<filter object at 0x7ffa6bfea070>\n"
     ]
    }
   ],
   "source": [
    "x_squared_filtered = filter(lambda k: k % 2 == 0, x_squared)\n",
    "print(x_squared_filtered)"
   ]
  },
  {
   "cell_type": "markdown",
   "metadata": {},
   "source": [
    "Now we have got a filter object.\n",
    "\n",
    "Let's use the function reduce to finally compute and reduce our filtered values to a single value."
   ]
  },
  {
   "cell_type": "code",
   "execution_count": 4,
   "metadata": {},
   "outputs": [],
   "source": [
    "from functools import reduce\n",
    "\n",
    "x_reduced = reduce(lambda k, p: k + p, x_squared_filtered)"
   ]
  },
  {
   "cell_type": "code",
   "execution_count": 5,
   "metadata": {},
   "outputs": [
    {
     "name": "stdout",
     "output_type": "stream",
     "text": [
      "After squaring each item of x, filtering even values, and reducing the list to a single value we get:\n",
      "\n",
      "2² + 4² = 20"
     ]
    }
   ],
   "source": [
    "print('After squaring each item of x, filtering even values, and reducing the list to a single value we get:\\n')\n",
    "print(' + '.join((str(i) + '\\u00b2' for i in x if i % 2 == 0)), end=f' = {x_reduced}')"
   ]
  },
  {
   "cell_type": "markdown",
   "metadata": {},
   "source": [
    "With that being said, let's get started with Spark."
   ]
  },
  {
   "cell_type": "markdown",
   "metadata": {
    "id": "1mOknOHkE-aj"
   },
   "source": [
    "# Create SparkSession"
   ]
  },
  {
   "cell_type": "markdown",
   "metadata": {},
   "source": [
    "The entry point into all functionality in Spark is the SparkSession class. \n",
    "A SparkSession can be used to create DataFrames, register DataFrames as tables, execute SQL over tables, cache tables, and read parquet files.\n",
    "\n",
    "To create a basic SparkSession, just use SparkSession.builder.\n",
    "\n",
    "It tells Spark how to access a cluster, however, for local testing and unit tests, you can pass “local” to run Spark in-process which is our case in this example.\n",
    "\n",
    "source: https://spark.apache.org/docs/latest/sql-getting-started.html\n",
    "'The Data Scientist's Guide to Apache Spark'"
   ]
  },
  {
   "cell_type": "code",
   "execution_count": 6,
   "metadata": {
    "id": "x0sE2UL--WM9"
   },
   "outputs": [
    {
     "data": {
      "text/html": [
       "\n",
       "            <div>\n",
       "                <p><b>SparkSession - in-memory</b></p>\n",
       "                \n",
       "        <div>\n",
       "            <p><b>SparkContext</b></p>\n",
       "\n",
       "            <p><a href=\"http://1025dce38001:4040\">Spark UI</a></p>\n",
       "\n",
       "            <dl>\n",
       "              <dt>Version</dt>\n",
       "                <dd><code>v3.1.1</code></dd>\n",
       "              <dt>Master</dt>\n",
       "                <dd><code>local[*]</code></dd>\n",
       "              <dt>AppName</dt>\n",
       "                <dd><code>Perth Housing</code></dd>\n",
       "            </dl>\n",
       "        </div>\n",
       "        \n",
       "            </div>\n",
       "        "
      ],
      "text/plain": [
       "<pyspark.sql.session.SparkSession at 0x7ffa682300a0>"
      ]
     },
     "execution_count": 6,
     "metadata": {},
     "output_type": "execute_result"
    }
   ],
   "source": [
    "from pyspark.sql import SparkSession\n",
    "\n",
    "spark = SparkSession.builder \\\n",
    "                    .master(\"local[*]\") \\\n",
    "                    .appName('Perth Housing') \\\n",
    "                    .getOrCreate()\n",
    "\n",
    "# Property used to format output tables better\n",
    "spark.conf.set(\"spark.sql.repl.eagerEval.enabled\", True) \n",
    "\n",
    "spark"
   ]
  },
  {
   "cell_type": "markdown",
   "metadata": {},
   "source": [
    "For more information about SparkSession parameters, modules, and functions: visit:\n",
    "\n",
    "https://spark.apache.org/docs/2.1.0/api/python/pyspark.sql.html?highlight=sparksession#pyspark.sql.SparkSession"
   ]
  },
  {
   "cell_type": "markdown",
   "metadata": {},
   "source": [
    "# Spark SQL"
   ]
  },
  {
   "cell_type": "markdown",
   "metadata": {},
   "source": [
    "Spark SQL is a Spark module for structured data processing.\n",
    "\n",
    "The interfaces provided by Spark SQL provide Spark with more information about the structure of both the data and the computation being performed.\n",
    "\n",
    "One use of Spark SQL is to execute SQL queries. \n",
    "\n",
    "Spark SQL can also be used to read data from an existing Hive installation. \n",
    "\n",
    "When running SQL from within another programming language the results will be returned as a Dataset/DataFrame.\n",
    "\n",
    "Source:\n",
    "https://spark.apache.org/docs/latest/sql-programming-guide.html"
   ]
  },
  {
   "cell_type": "markdown",
   "metadata": {
    "id": "Zv9t7rL4KNpG"
   },
   "source": [
    "### Create Temporary View from PySpark DataFrame\n",
    "\n",
    "\n"
   ]
  },
  {
   "cell_type": "markdown",
   "metadata": {
    "id": "A59vY-_ocGLu"
   },
   "source": [
    "Temporary views in Spark SQL are session-scoped and will disappear if the session that creates it terminates. \n",
    "\n",
    "If you want to have a temporary view that is shared among all sessions and keep alive until the Spark application terminates, you can create a global temporary view with the 'createGlobalTempView()' function. \n",
    "\n",
    "In this example, we are using createOrReplaceTempView() instead. \n",
    "\n",
    "\n",
    "Notice that the sql() function on a SparkSession enables applications to run SQL queries programmatically and returns the result as a DataFrame."
   ]
  },
  {
   "cell_type": "code",
   "execution_count": 7,
   "metadata": {
    "colab": {
     "base_uri": "https://localhost:8080/"
    },
    "id": "AD4SZLlzJhCa",
    "outputId": "4af71363-5a1a-4f2e-b0b5-8fe8900f989a"
   },
   "outputs": [
    {
     "data": {
      "text/html": [
       "<table border='1'>\n",
       "<tr><th>ADDRESS</th><th>SUBURB</th><th>PRICE</th><th>BEDROOMS</th><th>BATHROOMS</th><th>GARAGE</th><th>LAND_AREA</th><th>FLOOR_AREA</th><th>BUILD_YEAR</th><th>CBD_DIST</th><th>NEAREST_STN</th><th>NEAREST_STN_DIST</th><th>DATE_SOLD</th><th>POSTCODE</th><th>LATITUDE</th><th>LONGITUDE</th><th>NEAREST_SCH</th><th>NEAREST_SCH_DIST</th><th>NEAREST_SCH_RANK</th></tr>\n",
       "<tr><td>1 Acorn Place</td><td>South Lake</td><td>565000</td><td>4</td><td>2</td><td>2</td><td>600</td><td>160</td><td>2003</td><td>18300</td><td>Cockburn Central ...</td><td>1800</td><td>09-2018</td><td>6164</td><td>-32.1159</td><td>115.84245</td><td>LAKELAND SENIOR H...</td><td>0.8283385518162790</td><td>null</td></tr>\n",
       "<tr><td>1 Addis Way</td><td>Wandi</td><td>365000</td><td>3</td><td>2</td><td>2</td><td>351</td><td>139</td><td>2013</td><td>26900</td><td>Kwinana Station</td><td>4900</td><td>02-2019</td><td>6167</td><td>-32.19347028</td><td>115.8595535</td><td>ATWELL COLLEGE</td><td>5.524324354371820</td><td>129</td></tr>\n",
       "<tr><td>1 Ainsley Court</td><td>Camillo</td><td>287000</td><td>3</td><td>1</td><td>1</td><td>719</td><td>86</td><td>1979</td><td>22600</td><td>Challis Station</td><td>1900</td><td>06-2015</td><td>6111</td><td>-32.12057813</td><td>115.993579</td><td>KELMSCOTT SENIOR ...</td><td>1.649178183366990</td><td>113</td></tr>\n",
       "<tr><td>1 Albert Street</td><td>Bellevue</td><td>255000</td><td>2</td><td>1</td><td>2</td><td>651</td><td>59</td><td>1953</td><td>17900</td><td>Midland Station</td><td>3600</td><td>07-2018</td><td>6056</td><td>-31.90054675</td><td>116.0380088</td><td>SWAN VIEW SENIOR ...</td><td>1.5714009366124700</td><td>null</td></tr>\n",
       "<tr><td>1 Aman Place</td><td>Lockridge</td><td>325000</td><td>4</td><td>1</td><td>2</td><td>466</td><td>131</td><td>1998</td><td>11200</td><td>Bassendean Station</td><td>2000</td><td>11-2016</td><td>6054</td><td>-31.88579</td><td>115.94778</td><td>KIARA COLLEGE</td><td>1.5149216294528000</td><td>null</td></tr>\n",
       "</table>\n"
      ],
      "text/plain": [
       "+---------------+----------+------+--------+---------+------+---------+----------+----------+--------+--------------------+----------------+---------+--------+------------+-----------+--------------------+------------------+----------------+\n",
       "|        ADDRESS|    SUBURB| PRICE|BEDROOMS|BATHROOMS|GARAGE|LAND_AREA|FLOOR_AREA|BUILD_YEAR|CBD_DIST|         NEAREST_STN|NEAREST_STN_DIST|DATE_SOLD|POSTCODE|    LATITUDE|  LONGITUDE|         NEAREST_SCH|  NEAREST_SCH_DIST|NEAREST_SCH_RANK|\n",
       "+---------------+----------+------+--------+---------+------+---------+----------+----------+--------+--------------------+----------------+---------+--------+------------+-----------+--------------------+------------------+----------------+\n",
       "|  1 Acorn Place|South Lake|565000|       4|        2|     2|      600|       160|      2003|   18300|Cockburn Central ...|            1800|  09-2018|    6164|    -32.1159|  115.84245|LAKELAND SENIOR H...|0.8283385518162790|            null|\n",
       "|    1 Addis Way|     Wandi|365000|       3|        2|     2|      351|       139|      2013|   26900|     Kwinana Station|            4900|  02-2019|    6167|-32.19347028|115.8595535|      ATWELL COLLEGE| 5.524324354371820|             129|\n",
       "|1 Ainsley Court|   Camillo|287000|       3|        1|     1|      719|        86|      1979|   22600|     Challis Station|            1900|  06-2015|    6111|-32.12057813| 115.993579|KELMSCOTT SENIOR ...| 1.649178183366990|             113|\n",
       "|1 Albert Street|  Bellevue|255000|       2|        1|     2|      651|        59|      1953|   17900|     Midland Station|            3600|  07-2018|    6056|-31.90054675|116.0380088|SWAN VIEW SENIOR ...|1.5714009366124700|            null|\n",
       "|   1 Aman Place| Lockridge|325000|       4|        1|     2|      466|       131|      1998|   11200|  Bassendean Station|            2000|  11-2016|    6054|   -31.88579|  115.94778|       KIARA COLLEGE|1.5149216294528000|            null|\n",
       "+---------------+----------+------+--------+---------+------+---------+----------+----------+--------+--------------------+----------------+---------+--------+------------+-----------+--------------------+------------------+----------------+"
      ]
     },
     "execution_count": 7,
     "metadata": {},
     "output_type": "execute_result"
    }
   ],
   "source": [
    "df = spark.read.csv('perth_data.csv', header=True, sep=',', inferSchema=False)\n",
    "\n",
    "df.createOrReplaceTempView('temp_view')\n",
    "\n",
    "spark.sql('SELECT * FROM temp_view').limit(3)"
   ]
  },
  {
   "cell_type": "markdown",
   "metadata": {
    "id": "cOw5-PTNV6He"
   },
   "source": [
    "From the printed DataFrame, we can check each column and choose how we want them to be cleaned or transformed. \n",
    "\n",
    "Mostly, this process requires a deeper dive into the data depending on the quality of your data. You might need to define your own tranform funcitons. \n",
    "\n",
    "Pyspark also allows users to define their User Defined Functions (UDF's).\n",
    "\n",
    "If you are interested in learning more, you can find more information in the Databicks Documentation:\n",
    "\n",
    "https://docs.databricks.com/spark/latest/spark-sql/udf-python.html"
   ]
  },
  {
   "cell_type": "markdown",
   "metadata": {
    "id": "y2JJxv6NmLto"
   },
   "source": [
    "### Create UDF (User Defined Function)"
   ]
  },
  {
   "cell_type": "markdown",
   "metadata": {
    "id": "zDrOkoO7S5VS"
   },
   "source": [
    "The first step to define an UDF in Python is to define a Python function. This process can be done if def or lambda functions.\n",
    "\n",
    "In our example here, I am creating a Python class instead of a single function. \n",
    "\n",
    "This would allow us to add as many methods as we want in case we need more UDF's during the project."
   ]
  },
  {
   "cell_type": "code",
   "execution_count": 8,
   "metadata": {
    "id": "fzQAjWQbN1k0"
   },
   "outputs": [],
   "source": [
    "class Converter():\n",
    "\n",
    "    def __init__(self):\n",
    "        pass\n",
    "\n",
    "    def convert_str_title(self, value):\n",
    "        if value is None or str(value).strip() == '':\n",
    "            return None\n",
    "        return str(value).strip().title()\n",
    "\n",
    "    def create_udf(self, spark):\n",
    "        from pyspark.sql.functions import udf\n",
    "        from pyspark.sql.types import StringType\n",
    "        # Here is where we define how we call it. Let's call it 'converter_str_title'\n",
    "        spark.udf.register(\"convert_str_title\", self.convert_str_title, StringType()) "
   ]
  },
  {
   "cell_type": "markdown",
   "metadata": {
    "id": "YjnhKHDqkJj_"
   },
   "source": [
    "### Testing our UDF\n"
   ]
  },
  {
   "cell_type": "markdown",
   "metadata": {
    "id": "jmmrsdf8EiDn"
   },
   "source": [
    "Now, we can use our simple UDF as a SQL Function in our queries. In this example, we want to remove the unnecessary blank spaces and we also want just the first character in every word to be upper case.\n",
    "\n"
   ]
  },
  {
   "cell_type": "code",
   "execution_count": 9,
   "metadata": {
    "id": "2lE-n7LeWaId"
   },
   "outputs": [],
   "source": [
    "# Don't forget to call the method 'create_udf' from the Conveter() class\n",
    "\n",
    "Converter().create_udf(spark)"
   ]
  },
  {
   "cell_type": "code",
   "execution_count": 10,
   "metadata": {
    "colab": {
     "base_uri": "https://localhost:8080/"
    },
    "id": "igUOXqxTjVgV",
    "outputId": "931518ed-eb10-4e16-e36a-2e0b82221206"
   },
   "outputs": [
    {
     "name": "stdout",
     "output_type": "stream",
     "text": [
      "+-------------------------------+\n",
      "|TESTING_MY_UDF                 |\n",
      "+-------------------------------+\n",
      "|Upper Case Without Blank Spaces|\n",
      "+-------------------------------+\n",
      "\n"
     ]
    }
   ],
   "source": [
    "# Now we can call the converter_str_title() Function in our SQL queries:\n",
    "\n",
    "spark.sql('SELECT CONVERT_STR_TITLE(\"  upper case without blank spaces  \") AS TESTING_MY_UDF').show(truncate=False)"
   ]
  },
  {
   "cell_type": "markdown",
   "metadata": {
    "id": "VyWf3uu-GqWk"
   },
   "source": [
    "You might have noticed that I could have used the Spark SQL Built-in function INITCAP().\n",
    "\n",
    "We are going to use our UDF example 'CONVERT_STR_TITLE()' to transform the columns ADDRESS, SUBURB, NEAREST_STN, and NEAREST_SCH in our dataset.\n",
    "\n",
    "If you would like to check out the Spark SQL Built-in Functions click on the Databricks documentation link below. \n",
    "\n",
    "This is a great and useful list.\n",
    "\n",
    "https://docs.databricks.com/spark/2.x/spark-sql/language-manual/functions.html#f9"
   ]
  },
  {
   "cell_type": "markdown",
   "metadata": {
    "id": "GWjEjJtNH6VT"
   },
   "source": [
    "### Data Transformation"
   ]
  },
  {
   "cell_type": "markdown",
   "metadata": {
    "id": "hngway3VlBaU"
   },
   "source": [
    "Let's move on to our data transformation.\n",
    "\n",
    "In order to do that, let's first create a Python nested dictionary. It is a simple example of how we can deal with many transformations at once.\n",
    "\n",
    "For each key (column) we have the 'column_name' key that maps how we want the column to be named, 'description' that presents what each column means, and a 'transform_function' that indicates the data transformation. "
   ]
  },
  {
   "cell_type": "code",
   "execution_count": 11,
   "metadata": {
    "id": "L4NfYfjYHQCQ"
   },
   "outputs": [],
   "source": [
    "columns_table =  {\n",
    "                  'ADDRESS': {\n",
    "                              'column_name':'ADDRESS', \n",
    "                              'description': 'Unit/House number and street name',\n",
    "                              'transform_function': 'CONVERT_STR_TITLE(<column>)'},\n",
    "                  'SUBURB': {\n",
    "                              'column_name':'SUBURB', \n",
    "                              'description': 'Suburb where the property is located',\n",
    "                              'transform_function': 'CONVERT_STR_TITLE(<column>)'},\n",
    "                  'PRICE': {\n",
    "                              'column_name':'PRICE',\n",
    "                              'description': 'Property price',\n",
    "                              'transform_function': 'CAST(<column> AS INTEGER)'},\n",
    "                  'BEDROOMS': {\n",
    "                              'column_name':'BEDROOMS',\n",
    "                              'description': 'Number of bedrooms in the property',\n",
    "                              'transform_function': 'CASE WHEN INT(<column>) = 0 THEN NULL ELSE INT(<column>) END'},\n",
    "                  'BATHROOMS': {\n",
    "                              'column_name':'BATHROOMS', \n",
    "                              'description': 'Number of bathrooms in the property',\n",
    "                              'transform_function': 'CASE WHEN INT(<column>) = 0 THEN NULL ELSE INT(<column>) END'},\n",
    "                  'GARAGE': {\n",
    "                              'column_name':'GARAGE', \n",
    "                              'description': 'Number of parking spaces in the property',\n",
    "                              'transform_function': 'CASE WHEN INT(<column>) IS NULL THEN 0 WHEN INT(<column>) >= 50 THEN FLOOR(MEAN(<column>) OVER()) ELSE INT(<column>) END'},\n",
    "                  'LAND_AREA': {\n",
    "                              'column_name':'LAND_AREA', \n",
    "                              'description': 'Property land area in m2',\n",
    "                              'transform_function': 'CASE WHEN INT(<column>) IS NULL THEN 0 WHEN INT(<column>) >= 799999 THEN FLOOR(MEAN(<column>) OVER()) ELSE INT(<column>) END'},\n",
    "                  'FLOOR_AREA': {\n",
    "                              'column_name':'FLOOR_AREA', \n",
    "                              'description': 'Property floor area in m2',\n",
    "                              'transform_function': 'INT(<column>)'},\n",
    "                  'BUILD_YEAR': {\n",
    "                              'column_name':'BUILD_YEAR', \n",
    "                              'description': 'Year that the property was built',\n",
    "                              'transform_function': 'CASE WHEN INT(<column>) IS NULL THEN 0 ELSE INT(<column>) END'},\n",
    "                  'CBD_DIST': {\n",
    "                              'column_name':'CBD_DISTANCE', \n",
    "                              'description': 'The Distance between the property and Perth CBD in Km',\n",
    "                              'transform_function': 'CAST((<column> / 1000) AS DECIMAL(10, 1))'},\n",
    "                  'NEAREST_STN': {\n",
    "                              'column_name':'NEAREST_STATION', \n",
    "                              'description': 'Name of the nearest Station from the property',\n",
    "                              'transform_function': 'CONVERT_STR_TITLE(<column>)'},\n",
    "                  'NEAREST_STN_DIST': {\n",
    "                              'column_name':'NEAREST_STATION_DISTANCE', \n",
    "                              'description': 'Distance in Kms of the nearest Station from the property in Km',\n",
    "                              'transform_function': 'CAST((<column> / 1000) AS DECIMAL(10,1))'},\n",
    "                  'DATE_SOLD': {\n",
    "                              'column_name':'DATE_SOLD', \n",
    "                              'description': 'Month and Year the property was sold',\n",
    "                              'transform_function': 'TO_DATE(<column>, \"MM-yyyy\")'},\n",
    "                  'POSTCODE': {\n",
    "                              'column_name':'POSTCODE', \n",
    "                              'description': 'Property postcode',\n",
    "                              'transform_function': 'INT(<column>)'},\n",
    "                  'LATITUDE': {\n",
    "                              'column_name':'LATITUDE', \n",
    "                              'description': 'Geographic coordinate Latitude of the property',\n",
    "                              'transform_function': 'DOUBLE(<column>)'},\n",
    "                  'LONGITUDE': {\n",
    "                              'column_name':'LONGITUDE', \n",
    "                              'description': 'Geographic coordinate Longitude of the property',\n",
    "                              'transform_function': 'DOUBLE(<column>)'},\n",
    "                  'NEAREST_SCH': {\n",
    "                              'column_name':'NEAREST_SCHOOL', \n",
    "                              'description': 'Name of the nearest School from the property',\n",
    "                              'transform_function': 'CONVERT_STR_TITLE(<column>)'},\n",
    "                  'NEAREST_SCH_DIST': {\n",
    "                              'column_name':'NEAREST_SCHOOL_DISTANCE', \n",
    "                              'description': 'Distance in Kms of the nearest School from the property in Km',\n",
    "                              'transform_function': 'CAST(<column> AS DECIMAL(10, 1))'},\n",
    "                  'NEAREST_SCH_RANK': {\n",
    "                              'column_name':'NEAREST_SCHOOL_RANK', \n",
    "                              'description': 'Rank of the nearest School from the property',\n",
    "                              'transform_function': 'CASE WHEN INT(<column>) IS NULL THEN 0 ELSE INT(<column>) END'}\n",
    "                   }"
   ]
  },
  {
   "cell_type": "markdown",
   "metadata": {
    "id": "IAxvVW6FUjtg"
   },
   "source": [
    "After creating the dictionary with the new column names, defining the columns dtypes, column descriptions, and transformations we can run the code below.\n",
    "\n",
    "It creates a list of the columns to be displayed in the SELECT statement of our SQL query.\n",
    "\n",
    "You can find more information of Spark data types in the link below:\n",
    "\n",
    "https://spark.apache.org/docs/latest/sql-ref-datatypes.html"
   ]
  },
  {
   "cell_type": "code",
   "execution_count": 12,
   "metadata": {
    "id": "24q3zIHzgZmc"
   },
   "outputs": [],
   "source": [
    "statement_list = []\n",
    "\n",
    "for col in columns_table.keys():\n",
    "    statement_list.append(\n",
    "                        (columns_table[col]['transform_function'].replace('<column>', col) \\\n",
    "                        if columns_table[col]['transform_function'] is not None else col) \\\n",
    "                        + ' AS ' + columns_table[col]['column_name'].title()\n",
    "                        )"
   ]
  },
  {
   "cell_type": "markdown",
   "metadata": {
    "id": "dpRpGrlNVdiz"
   },
   "source": [
    "To get a clearer vision of our query, let's print it on the screen.\n",
    "\n",
    "This is how our query will look like."
   ]
  },
  {
   "cell_type": "code",
   "execution_count": 13,
   "metadata": {
    "colab": {
     "base_uri": "https://localhost:8080/"
    },
    "id": "aF8kAHoNVXV3",
    "outputId": "eedae911-9fd1-42ac-8a07-22412db9ee44"
   },
   "outputs": [
    {
     "name": "stdout",
     "output_type": "stream",
     "text": [
      "SELECT\n",
      "  CONVERT_STR_TITLE(ADDRESS) AS Address\n",
      "  ,CONVERT_STR_TITLE(SUBURB) AS Suburb\n",
      "  ,CAST(PRICE AS INTEGER) AS Price\n",
      "  ,CASE WHEN INT(BEDROOMS) = 0 THEN NULL ELSE INT(BEDROOMS) END AS Bedrooms\n",
      "  ,CASE WHEN INT(BATHROOMS) = 0 THEN NULL ELSE INT(BATHROOMS) END AS Bathrooms\n",
      "  ,CASE WHEN INT(GARAGE) IS NULL THEN 0 WHEN INT(GARAGE) >= 50 THEN FLOOR(MEAN(GARAGE) OVER()) ELSE INT(GARAGE) END AS Garage\n",
      "  ,CASE WHEN INT(LAND_AREA) IS NULL THEN 0 WHEN INT(LAND_AREA) >= 799999 THEN FLOOR(MEAN(LAND_AREA) OVER()) ELSE INT(LAND_AREA) END AS Land_Area\n",
      "  ,INT(FLOOR_AREA) AS Floor_Area\n",
      "  ,CASE WHEN INT(BUILD_YEAR) IS NULL THEN 0 ELSE INT(BUILD_YEAR) END AS Build_Year\n",
      "  ,CAST((CBD_DIST / 1000) AS DECIMAL(10, 1)) AS Cbd_Distance\n",
      "  ,CONVERT_STR_TITLE(NEAREST_STN) AS Nearest_Station\n",
      "  ,CAST((NEAREST_STN_DIST / 1000) AS DECIMAL(10,1)) AS Nearest_Station_Distance\n",
      "  ,TO_DATE(DATE_SOLD, \"MM-yyyy\") AS Date_Sold\n",
      "  ,INT(POSTCODE) AS Postcode\n",
      "  ,DOUBLE(LATITUDE) AS Latitude\n",
      "  ,DOUBLE(LONGITUDE) AS Longitude\n",
      "  ,CONVERT_STR_TITLE(NEAREST_SCH) AS Nearest_School\n",
      "  ,CAST(NEAREST_SCH_DIST AS DECIMAL(10, 1)) AS Nearest_School_Distance\n",
      "  ,CASE WHEN INT(NEAREST_SCH_RANK) IS NULL THEN 0 ELSE INT(NEAREST_SCH_RANK) END AS Nearest_School_Rank\n",
      "FROM temp_view\n"
     ]
    }
   ],
   "source": [
    "# Helper\n",
    "print('SELECT')\n",
    "for i, c in enumerate(statement_list):\n",
    "    print((\"  \" if i == 0 else \"  ,\") + c)\n",
    "print('FROM temp_view')"
   ]
  },
  {
   "cell_type": "markdown",
   "metadata": {
    "id": "b46Qmn5HnJWL"
   },
   "source": [
    "After having checked each column it is time to run the query.\n",
    "\n",
    "The following code creates a SQL temporary view and a PySpark DataFrame with the data already transformed."
   ]
  },
  {
   "cell_type": "code",
   "execution_count": 14,
   "metadata": {
    "colab": {
     "base_uri": "https://localhost:8080/"
    },
    "id": "XxpqlBagGcFD",
    "outputId": "d883797c-d9f3-4ba7-ba6d-f80835deb8bd"
   },
   "outputs": [
    {
     "data": {
      "text/html": [
       "<table border='1'>\n",
       "<tr><th>Address</th><th>Suburb</th><th>Price</th><th>Bedrooms</th><th>Bathrooms</th><th>Garage</th><th>Land_Area</th><th>Floor_Area</th><th>Build_Year</th><th>Cbd_Distance</th><th>Nearest_Station</th><th>Nearest_Station_Distance</th><th>Date_Sold</th><th>Postcode</th><th>Latitude</th><th>Longitude</th><th>Nearest_School</th><th>Nearest_School_Distance</th><th>Nearest_School_Rank</th></tr>\n",
       "<tr><td>1 Acorn Place</td><td>South Lake</td><td>565000</td><td>4</td><td>2</td><td>2</td><td>600</td><td>160</td><td>2003</td><td>18.3</td><td>Cockburn Central ...</td><td>1.8</td><td>2018-09-01</td><td>6164</td><td>-32.1159</td><td>115.84245</td><td>Lakeland Senior H...</td><td>0.8</td><td>0</td></tr>\n",
       "<tr><td>1 Addis Way</td><td>Wandi</td><td>365000</td><td>3</td><td>2</td><td>2</td><td>351</td><td>139</td><td>2013</td><td>26.9</td><td>Kwinana Station</td><td>4.9</td><td>2019-02-01</td><td>6167</td><td>-32.19347028</td><td>115.8595535</td><td>Atwell College</td><td>5.5</td><td>129</td></tr>\n",
       "<tr><td>1 Ainsley Court</td><td>Camillo</td><td>287000</td><td>3</td><td>1</td><td>1</td><td>719</td><td>86</td><td>1979</td><td>22.6</td><td>Challis Station</td><td>1.9</td><td>2015-06-01</td><td>6111</td><td>-32.12057813</td><td>115.993579</td><td>Kelmscott Senior ...</td><td>1.6</td><td>113</td></tr>\n",
       "<tr><td>1 Albert Street</td><td>Bellevue</td><td>255000</td><td>2</td><td>1</td><td>2</td><td>651</td><td>59</td><td>1953</td><td>17.9</td><td>Midland Station</td><td>3.6</td><td>2018-07-01</td><td>6056</td><td>-31.90054675</td><td>116.0380088</td><td>Swan View Senior ...</td><td>1.6</td><td>0</td></tr>\n",
       "<tr><td>1 Aman Place</td><td>Lockridge</td><td>325000</td><td>4</td><td>1</td><td>2</td><td>466</td><td>131</td><td>1998</td><td>11.2</td><td>Bassendean Station</td><td>2.0</td><td>2016-11-01</td><td>6054</td><td>-31.88579</td><td>115.94778</td><td>Kiara College</td><td>1.5</td><td>0</td></tr>\n",
       "</table>\n"
      ],
      "text/plain": [
       "+---------------+----------+------+--------+---------+------+---------+----------+----------+------------+--------------------+------------------------+----------+--------+------------+-----------+--------------------+-----------------------+-------------------+\n",
       "|        Address|    Suburb| Price|Bedrooms|Bathrooms|Garage|Land_Area|Floor_Area|Build_Year|Cbd_Distance|     Nearest_Station|Nearest_Station_Distance| Date_Sold|Postcode|    Latitude|  Longitude|      Nearest_School|Nearest_School_Distance|Nearest_School_Rank|\n",
       "+---------------+----------+------+--------+---------+------+---------+----------+----------+------------+--------------------+------------------------+----------+--------+------------+-----------+--------------------+-----------------------+-------------------+\n",
       "|  1 Acorn Place|South Lake|565000|       4|        2|     2|      600|       160|      2003|        18.3|Cockburn Central ...|                     1.8|2018-09-01|    6164|    -32.1159|  115.84245|Lakeland Senior H...|                    0.8|                  0|\n",
       "|    1 Addis Way|     Wandi|365000|       3|        2|     2|      351|       139|      2013|        26.9|     Kwinana Station|                     4.9|2019-02-01|    6167|-32.19347028|115.8595535|      Atwell College|                    5.5|                129|\n",
       "|1 Ainsley Court|   Camillo|287000|       3|        1|     1|      719|        86|      1979|        22.6|     Challis Station|                     1.9|2015-06-01|    6111|-32.12057813| 115.993579|Kelmscott Senior ...|                    1.6|                113|\n",
       "|1 Albert Street|  Bellevue|255000|       2|        1|     2|      651|        59|      1953|        17.9|     Midland Station|                     3.6|2018-07-01|    6056|-31.90054675|116.0380088|Swan View Senior ...|                    1.6|                  0|\n",
       "|   1 Aman Place| Lockridge|325000|       4|        1|     2|      466|       131|      1998|        11.2|  Bassendean Station|                     2.0|2016-11-01|    6054|   -31.88579|  115.94778|       Kiara College|                    1.5|                  0|\n",
       "+---------------+----------+------+--------+---------+------+---------+----------+----------+------------+--------------------+------------------------+----------+--------+------------+-----------+--------------------+-----------------------+-------------------+"
      ]
     },
     "execution_count": 14,
     "metadata": {},
     "output_type": "execute_result"
    }
   ],
   "source": [
    "query = f\"\"\"\n",
    "        CREATE OR REPLACE TEMPORARY VIEW perth_housing_view AS\n",
    "        SELECT\n",
    "          {\", \".join(statement_list)}\n",
    "        FROM temp_view\n",
    "        \"\"\"\n",
    "spark.sql(query)\n",
    "\n",
    "df_transformed = spark.sql('SELECT * FROM perth_housing_view')\n",
    "df_transformed.limit(5)"
   ]
  },
  {
   "cell_type": "code",
   "execution_count": 15,
   "metadata": {
    "colab": {
     "base_uri": "https://localhost:8080/"
    },
    "id": "DNPpVBaho6kD",
    "outputId": "ebeacf4e-1ec1-467b-d2f4-17f2b5b513c0"
   },
   "outputs": [],
   "source": [
    "df = df_transformed"
   ]
  },
  {
   "cell_type": "markdown",
   "metadata": {},
   "source": [
    "Imagine now that we want our transformed data to be ingested in a relational table and to be stored in the transformed layer of our Data Warehouse.\n",
    "\n",
    "This can get a bit more complex since we need to cover several error treatments and possibilities, however, let's try to make it simple in the scope of this mini project.\n",
    "\n",
    "Firstly, let's create 3 lists with the name, dtype and comment for each column:"
   ]
  },
  {
   "cell_type": "code",
   "execution_count": 16,
   "metadata": {},
   "outputs": [],
   "source": [
    "col_name = list(col[0] for col in df.dtypes)\n",
    "col_dtype = list(col[1] for col in df.dtypes)\n",
    "col_comment = list(columns_table[col]['description'] for col in columns_table.keys())"
   ]
  },
  {
   "cell_type": "markdown",
   "metadata": {},
   "source": [
    "Again, let's define a Helper function below that prints how the CREATE TABLE and INSERT queries are going to be.\n",
    "\n",
    "It will help us visualising the query that creates the table and inserts data into the table."
   ]
  },
  {
   "cell_type": "code",
   "execution_count": 17,
   "metadata": {},
   "outputs": [
    {
     "name": "stdout",
     "output_type": "stream",
     "text": [
      "\n",
      "DROP TABLE IF EXISTS perth_housing_table;\n",
      "CREATE TABLE perth_housing_table\n",
      "(\n",
      "  Address STRING COMMENT 'Unit/House number and street name'\n",
      "  ,Suburb STRING COMMENT 'Suburb where the property is located'\n",
      "  ,Price INT COMMENT 'Property price'\n",
      "  ,Bedrooms INT COMMENT 'Number of bedrooms in the property'\n",
      "  ,Bathrooms INT COMMENT 'Number of bathrooms in the property'\n",
      "  ,Garage BIGINT COMMENT 'Number of parking spaces in the property'\n",
      "  ,Land_Area BIGINT COMMENT 'Property land area'\n",
      "  ,Floor_Area INT COMMENT 'Property floor area'\n",
      "  ,Build_Year INT COMMENT 'Year that the property was built'\n",
      "  ,Cbd_Distance DECIMAL(10,1) COMMENT 'The Distance between the property and Perth CBD'\n",
      "  ,Nearest_Station STRING COMMENT 'Name of the nearest Station from the property'\n",
      "  ,Nearest_Station_Distance DECIMAL(10,1) COMMENT 'Distance in Kms of the nearest Station from the property'\n",
      "  ,Date_Sold DATE COMMENT 'Month and Year the property was sold'\n",
      "  ,Postcode INT COMMENT 'Property postcode'\n",
      "  ,Latitude DOUBLE COMMENT 'Geographic coordinate Latitude of the property'\n",
      "  ,Longitude DOUBLE COMMENT 'Geographic coordinate Longitude of the property'\n",
      "  ,Nearest_School STRING COMMENT 'Name of the nearest School from the property'\n",
      "  ,Nearest_School_Distance DECIMAL(10,1) COMMENT 'Distance in Kms of the nearest School from the property'\n",
      "  ,Nearest_School_Rank INT COMMENT 'Rank of the nearest School from the property'\n",
      ")\n",
      "USING CSV;\n",
      "\n",
      "INSERT INTO perth_housing_table\n",
      "SELECT\n",
      "  Address\n",
      "  ,Suburb\n",
      "  ,Price\n",
      "  ,Bedrooms\n",
      "  ,Bathrooms\n",
      "  ,Garage\n",
      "  ,Land_Area\n",
      "  ,Floor_Area\n",
      "  ,Build_Year\n",
      "  ,Cbd_Distance\n",
      "  ,Nearest_Station\n",
      "  ,Nearest_Station_Distance\n",
      "  ,Date_Sold\n",
      "  ,Postcode\n",
      "  ,Latitude\n",
      "  ,Longitude\n",
      "  ,Nearest_School\n",
      "  ,Nearest_School_Distance\n",
      "  ,Nearest_School_Rank\n",
      "FROM perth_housing\n"
     ]
    }
   ],
   "source": [
    "def create_table_query_helper(table_name:'Table to be created', view_name:'View where data is coming from'):\n",
    "    print(f'\\nDROP TABLE IF EXISTS {table_name};')\n",
    "    print(f'CREATE TABLE {table_name}\\n(')\n",
    "    for i, col in enumerate(list(zip(col_name, col_dtype, col_comment))):\n",
    "        print((\"  \" if i == 0 else \"  ,\") + f\"{col[0]} {col[1].upper()} COMMENT '{col[2]}'\")\n",
    "    print(f')\\nUSING CSV;\\n\\nINSERT INTO {table_name}\\nSELECT')\n",
    "    for i, col in enumerate(col_name):\n",
    "        print(('  ' if i == 0 else '  ,') + col)\n",
    "    print(f'FROM {view_name}')\n",
    "\n",
    "# call the function with the table and view names:\n",
    "create_table_query_helper(table_name='perth_housing_table', view_name = 'perth_housing_view')"
   ]
  },
  {
   "cell_type": "markdown",
   "metadata": {},
   "source": [
    "Now, that we can see how our queries look like, let's create the table and insert data into it."
   ]
  },
  {
   "cell_type": "code",
   "execution_count": 18,
   "metadata": {},
   "outputs": [],
   "source": [
    "def create_insert_data_into_table(table_name, view_name):\n",
    "    \n",
    "    spark.sql(f\"DROP TABLE IF EXISTS {table_name}\")\n",
    "    \n",
    "    statements_list = []\n",
    "    for i, col in enumerate(list(zip(col_name, col_dtype, col_comment))):\n",
    "        statements_list.append((\"  \" if i == 0 else \"  ,\") + f\"{col[0]} {col[1].upper()} COMMENT '{col[2]}'\")\n",
    "    \n",
    "    query_create_table = f\"\"\"\n",
    "                        CREATE TABLE {table_name} \n",
    "                        (\n",
    "                          {''.join((statements_list))}\n",
    "                        )\n",
    "                        USING CSV\n",
    "                        \"\"\"\n",
    "    \n",
    "    spark.sql(query_create_table)\n",
    "    \n",
    "    \n",
    "    query_insert_into_table = f\"\"\"\n",
    "                            INSERT INTO {table_name}\n",
    "                            SELECT\n",
    "                              {\", \".join(col_name)}\n",
    "                            FROM {view_name}\n",
    "                            \"\"\"\n",
    "    \n",
    "    spark.sql(query_insert_into_table)"
   ]
  },
  {
   "cell_type": "markdown",
   "metadata": {},
   "source": [
    "After that, we just need to call the create_insert_data_into_table() function with the table name and the temporary view name where the data is coming from."
   ]
  },
  {
   "cell_type": "code",
   "execution_count": 19,
   "metadata": {},
   "outputs": [],
   "source": [
    "create_insert_data_into_table(table_name='perth_housing_table', view_name='perth_housing_view')"
   ]
  },
  {
   "cell_type": "code",
   "execution_count": 20,
   "metadata": {},
   "outputs": [
    {
     "data": {
      "text/html": [
       "<table border='1'>\n",
       "<tr><th>Address</th><th>Suburb</th><th>Price</th><th>Bedrooms</th><th>Bathrooms</th><th>Garage</th><th>Land_Area</th><th>Floor_Area</th><th>Build_Year</th><th>Cbd_Distance</th><th>Nearest_Station</th><th>Nearest_Station_Distance</th><th>Date_Sold</th><th>Postcode</th><th>Latitude</th><th>Longitude</th><th>Nearest_School</th><th>Nearest_School_Distance</th><th>Nearest_School_Rank</th></tr>\n",
       "<tr><td>1 Acorn Place</td><td>South Lake</td><td>565000</td><td>4</td><td>2</td><td>2</td><td>600</td><td>160</td><td>2003</td><td>18.3</td><td>Cockburn Central ...</td><td>1.8</td><td>2018-09-01</td><td>6164</td><td>-32.1159</td><td>115.84245</td><td>Lakeland Senior H...</td><td>0.8</td><td>0</td></tr>\n",
       "<tr><td>1 Addis Way</td><td>Wandi</td><td>365000</td><td>3</td><td>2</td><td>2</td><td>351</td><td>139</td><td>2013</td><td>26.9</td><td>Kwinana Station</td><td>4.9</td><td>2019-02-01</td><td>6167</td><td>-32.19347028</td><td>115.8595535</td><td>Atwell College</td><td>5.5</td><td>129</td></tr>\n",
       "<tr><td>1 Ainsley Court</td><td>Camillo</td><td>287000</td><td>3</td><td>1</td><td>1</td><td>719</td><td>86</td><td>1979</td><td>22.6</td><td>Challis Station</td><td>1.9</td><td>2015-06-01</td><td>6111</td><td>-32.12057813</td><td>115.993579</td><td>Kelmscott Senior ...</td><td>1.6</td><td>113</td></tr>\n",
       "<tr><td>1 Albert Street</td><td>Bellevue</td><td>255000</td><td>2</td><td>1</td><td>2</td><td>651</td><td>59</td><td>1953</td><td>17.9</td><td>Midland Station</td><td>3.6</td><td>2018-07-01</td><td>6056</td><td>-31.90054675</td><td>116.0380088</td><td>Swan View Senior ...</td><td>1.6</td><td>0</td></tr>\n",
       "<tr><td>1 Aman Place</td><td>Lockridge</td><td>325000</td><td>4</td><td>1</td><td>2</td><td>466</td><td>131</td><td>1998</td><td>11.2</td><td>Bassendean Station</td><td>2.0</td><td>2016-11-01</td><td>6054</td><td>-31.88579</td><td>115.94778</td><td>Kiara College</td><td>1.5</td><td>0</td></tr>\n",
       "</table>\n"
      ],
      "text/plain": [
       "+---------------+----------+------+--------+---------+------+---------+----------+----------+------------+--------------------+------------------------+----------+--------+------------+-----------+--------------------+-----------------------+-------------------+\n",
       "|        Address|    Suburb| Price|Bedrooms|Bathrooms|Garage|Land_Area|Floor_Area|Build_Year|Cbd_Distance|     Nearest_Station|Nearest_Station_Distance| Date_Sold|Postcode|    Latitude|  Longitude|      Nearest_School|Nearest_School_Distance|Nearest_School_Rank|\n",
       "+---------------+----------+------+--------+---------+------+---------+----------+----------+------------+--------------------+------------------------+----------+--------+------------+-----------+--------------------+-----------------------+-------------------+\n",
       "|  1 Acorn Place|South Lake|565000|       4|        2|     2|      600|       160|      2003|        18.3|Cockburn Central ...|                     1.8|2018-09-01|    6164|    -32.1159|  115.84245|Lakeland Senior H...|                    0.8|                  0|\n",
       "|    1 Addis Way|     Wandi|365000|       3|        2|     2|      351|       139|      2013|        26.9|     Kwinana Station|                     4.9|2019-02-01|    6167|-32.19347028|115.8595535|      Atwell College|                    5.5|                129|\n",
       "|1 Ainsley Court|   Camillo|287000|       3|        1|     1|      719|        86|      1979|        22.6|     Challis Station|                     1.9|2015-06-01|    6111|-32.12057813| 115.993579|Kelmscott Senior ...|                    1.6|                113|\n",
       "|1 Albert Street|  Bellevue|255000|       2|        1|     2|      651|        59|      1953|        17.9|     Midland Station|                     3.6|2018-07-01|    6056|-31.90054675|116.0380088|Swan View Senior ...|                    1.6|                  0|\n",
       "|   1 Aman Place| Lockridge|325000|       4|        1|     2|      466|       131|      1998|        11.2|  Bassendean Station|                     2.0|2016-11-01|    6054|   -31.88579|  115.94778|       Kiara College|                    1.5|                  0|\n",
       "+---------------+----------+------+--------+---------+------+---------+----------+----------+------------+--------------------+------------------------+----------+--------+------------+-----------+--------------------+-----------------------+-------------------+"
      ]
     },
     "execution_count": 20,
     "metadata": {},
     "output_type": "execute_result"
    }
   ],
   "source": [
    "spark.sql('SELECT * FROM perth_housing_table').limit(3)"
   ]
  },
  {
   "cell_type": "markdown",
   "metadata": {},
   "source": [
    "### ETL class"
   ]
  },
  {
   "cell_type": "markdown",
   "metadata": {},
   "source": [
    "Another option would be to create a class in Python that encapsulates the entire process that we have gone through.\n",
    "\n",
    "The following Python class work for this particular case, however, we would need to add extra features in order to be able to handle other file formats and datasets."
   ]
  },
  {
   "cell_type": "code",
   "execution_count": 21,
   "metadata": {},
   "outputs": [],
   "source": [
    "class ETL():\n",
    "    \n",
    "    def __init__(self\n",
    "                 ,file_name:'CSV File'\n",
    "                 ,columns_definitions_dict:'Python Dict'\n",
    "                 ,table_name:'Table Name to be created'):\n",
    "        \n",
    "        self.file_name = file_name\n",
    "        self.table_name = table_name\n",
    "        self.columns_definitions_dict = columns_definitions_dict\n",
    "        \n",
    "        assert isinstance(columns_definitions_dict, dict), 'Error: columns_definitions_dict must be dict'\n",
    "        \n",
    "    \n",
    "    def extract(self):\n",
    "        try:\n",
    "            df = spark.read.csv(f\"{self.file_name}\", header=True)\n",
    "            df.createOrReplaceTempView('temp_view')\n",
    "        except Exception as e:\n",
    "            print('Error when attempting to read CSV file')\n",
    "        \n",
    "        \n",
    "    def transform(self):\n",
    "        \n",
    "        statement_list = []\n",
    "        for col in self.columns_definitions_dict.keys():\n",
    "            statement_list.append(\n",
    "                                (self.columns_definitions_dict[col]['transform_function'].replace('<column>', col) \\\n",
    "                                if self.columns_definitions_dict[col]['transform_function'] is not None else col) \\\n",
    "                                + ' AS ' + self.columns_definitions_dict[col]['column_name'].title()\n",
    "                                )\n",
    "\n",
    "        query = f\"\"\"\n",
    "        CREATE OR REPLACE TEMPORARY VIEW transformed_view AS\n",
    "        SELECT\n",
    "          {\", \".join(statement_list)}\n",
    "        FROM temp_view\n",
    "        \"\"\"\n",
    "        \n",
    "        spark.sql(query)\n",
    "        df_transformed = spark.sql('SELECT * FROM transformed_view')\n",
    "        \n",
    "        return df_transformed\n",
    "        \n",
    "    \n",
    "    def drop_table_if_exists(self):\n",
    "        spark.sql(f\"DROP TABLE IF EXISTS {self.table_name}\")\n",
    "    \n",
    "    \n",
    "    def create_table(self):\n",
    "        statements_list = []\n",
    "        df_transformed = self.transform()\n",
    "        \n",
    "        col_name = list(col[0] for col in df_transformed.dtypes)\n",
    "        col_dtype = list(col[1] for col in df_transformed.dtypes)\n",
    "        col_comment = list(self.columns_definitions_dict[col]['description'] for col in self.columns_definitions_dict.keys())\n",
    "        \n",
    "        for i, col in enumerate(list(zip(col_name, col_dtype, col_comment))):\n",
    "            statements_list.append((\"  \" if i == 0 else \"  ,\") + f\"{col[0]} {col[1].upper()} COMMENT '{col[2]}'\")\n",
    "\n",
    "        query_create_table = f\"\"\"\n",
    "                            CREATE TABLE {self.table_name} \n",
    "                            (\n",
    "                              {''.join((statements_list))}\n",
    "                            )\n",
    "                            USING CSV\n",
    "                            \"\"\"\n",
    "        \n",
    "        spark.sql(query_create_table)\n",
    "    \n",
    "    \n",
    "    def load(self):\n",
    "        query_insert_into_table = f\"\"\"\n",
    "                                INSERT INTO {self.table_name}\n",
    "                                SELECT\n",
    "                                  {\", \".join(col_name)}\n",
    "                                FROM transformed_view\n",
    "                                \"\"\"\n",
    "        \n",
    "        spark.sql(query_insert_into_table)\n",
    "    \n",
    "    \n",
    "    def extract_transform_load(self):\n",
    "        self.extract()\n",
    "        self.drop_table_if_exists()\n",
    "        self.create_table()\n",
    "        self.load()"
   ]
  },
  {
   "cell_type": "markdown",
   "metadata": {},
   "source": [
    "Similarly, we instantiate an ETL object with the required parameters. "
   ]
  },
  {
   "cell_type": "code",
   "execution_count": 22,
   "metadata": {},
   "outputs": [],
   "source": [
    "etl = ETL(file_name='perth_data.csv', \n",
    "          columns_definitions_dict=columns_table, # columns_table is the dictionary with all the transform info\n",
    "          table_name='perth_housing')\n",
    "\n",
    "etl.extract_transform_load()"
   ]
  },
  {
   "cell_type": "markdown",
   "metadata": {},
   "source": [
    "Using the SQL DESCRIBE statement, we can check the column names, data types and comments for each column of the perth_housing table just created."
   ]
  },
  {
   "cell_type": "code",
   "execution_count": 23,
   "metadata": {},
   "outputs": [
    {
     "name": "stdout",
     "output_type": "stream",
     "text": [
      "+------------------------+-------------+--------------------------------------------------------+\n",
      "|col_name                |data_type    |comment                                                 |\n",
      "+------------------------+-------------+--------------------------------------------------------+\n",
      "|Address                 |string       |Unit/House number and street name                       |\n",
      "|Suburb                  |string       |Suburb where the property is located                    |\n",
      "|Price                   |int          |Property price                                          |\n",
      "|Bedrooms                |int          |Number of bedrooms in the property                      |\n",
      "|Bathrooms               |int          |Number of bathrooms in the property                     |\n",
      "|Garage                  |bigint       |Number of parking spaces in the property                |\n",
      "|Land_Area               |bigint       |Property land area                                      |\n",
      "|Floor_Area              |int          |Property floor area                                     |\n",
      "|Build_Year              |int          |Year that the property was built                        |\n",
      "|Cbd_Distance            |decimal(10,1)|The Distance between the property and Perth CBD         |\n",
      "|Nearest_Station         |string       |Name of the nearest Station from the property           |\n",
      "|Nearest_Station_Distance|decimal(10,1)|Distance in Kms of the nearest Station from the property|\n",
      "|Date_Sold               |date         |Month and Year the property was sold                    |\n",
      "|Postcode                |int          |Property postcode                                       |\n",
      "|Latitude                |double       |Geographic coordinate Latitude of the property          |\n",
      "|Longitude               |double       |Geographic coordinate Longitude of the property         |\n",
      "|Nearest_School          |string       |Name of the nearest School from the property            |\n",
      "|Nearest_School_Distance |decimal(10,1)|Distance in Kms of the nearest School from the property |\n",
      "|Nearest_School_Rank     |int          |Rank of the nearest School from the property            |\n",
      "+------------------------+-------------+--------------------------------------------------------+\n",
      "\n"
     ]
    }
   ],
   "source": [
    "spark.sql('DESCRIBE perth_housing').show(truncate=False)"
   ]
  },
  {
   "cell_type": "markdown",
   "metadata": {
    "id": "PqPod08OdO7T"
   },
   "source": [
    "Now, our data is transformed and stored in a table. Let's move to the next stage of the project.\n",
    "\n",
    "The link below is the Spark SQL syntax documentation:\n",
    "\n",
    "https://spark.apache.org/docs/latest/sql-ref-syntax.html"
   ]
  },
  {
   "cell_type": "markdown",
   "metadata": {
    "id": "ciOykTq13gAe"
   },
   "source": [
    "# PysPark DataFrame"
   ]
  },
  {
   "cell_type": "markdown",
   "metadata": {},
   "source": [
    "PySpark DataFrame is a distributed collection of data grouped into named columns.\n",
    "\n",
    "A DataFrame is equivalent to a relational table in Spark SQL, and can be created using various functions in SparkSession.\n",
    "\n",
    "As we did in our first example, the following cell creates a DataFrame based on the content of a CSV file:"
   ]
  },
  {
   "cell_type": "code",
   "execution_count": 24,
   "metadata": {
    "id": "0QFK1HGXZqsC"
   },
   "outputs": [],
   "source": [
    "df = spark.read.csv('perth_data.csv', header=True, inferSchema=True)"
   ]
  },
  {
   "cell_type": "markdown",
   "metadata": {},
   "source": [
    "Let's set inferSchema=True. PySpark sets the data types according to each column automatically. You might need to change some of the column data types."
   ]
  },
  {
   "cell_type": "code",
   "execution_count": 25,
   "metadata": {
    "colab": {
     "base_uri": "https://localhost:8080/"
    },
    "id": "_oi6OSgfZ4Br",
    "outputId": "3e73e05d-5501-42e6-aa79-66123f132e69"
   },
   "outputs": [
    {
     "name": "stdout",
     "output_type": "stream",
     "text": [
      "[('ADDRESS', 'string'), ('SUBURB', 'string'), ('PRICE', 'int'), ('BEDROOMS', 'int'), ('BATHROOMS', 'int'), ('GARAGE', 'string'), ('LAND_AREA', 'int'), ('FLOOR_AREA', 'int'), ('BUILD_YEAR', 'string'), ('CBD_DIST', 'int'), ('NEAREST_STN', 'string'), ('NEAREST_STN_DIST', 'int'), ('DATE_SOLD', 'string'), ('POSTCODE', 'int'), ('LATITUDE', 'double'), ('LONGITUDE', 'double'), ('NEAREST_SCH', 'string'), ('NEAREST_SCH_DIST', 'double'), ('NEAREST_SCH_RANK', 'int')]\n"
     ]
    }
   ],
   "source": [
    "print(df.dtypes)"
   ]
  },
  {
   "cell_type": "code",
   "execution_count": 26,
   "metadata": {
    "id": "uIp3E06W6lgs"
   },
   "outputs": [],
   "source": [
    "from pyspark.sql.types import *\n",
    "\n",
    "dtype_labels =  [('ADDRESS', StringType()),\n",
    "                ('SUBURB', StringType()),\n",
    "                ('PRICE', IntegerType()),\n",
    "                ('BEDROOMS', IntegerType()),\n",
    "                ('BATHROOMS', IntegerType()),\n",
    "                ('GARAGE', IntegerType()),\n",
    "                ('LAND_AREA', IntegerType()),\n",
    "                ('FLOOR_AREA', IntegerType()),\n",
    "                ('BUILD_YEAR', StringType()),\n",
    "                ('CBD_DIST', DecimalType(10, 1)),\n",
    "                ('NEAREST_STN', StringType()),\n",
    "                ('NEAREST_STN_DIST', DecimalType(10, 1)),\n",
    "                ('DATE_SOLD', StringType()),\n",
    "                ('POSTCODE', IntegerType()),\n",
    "                ('LATITUDE', DoubleType()),\n",
    "                ('LONGITUDE', DoubleType()),\n",
    "                ('NEAREST_SCH', StringType()),\n",
    "                ('NEAREST_SCH_DIST', DecimalType(10, 1)),\n",
    "                ('NEAREST_SCH_RANK', IntegerType())]"
   ]
  },
  {
   "cell_type": "markdown",
   "metadata": {},
   "source": [
    "Create the schema object and set it as the DataFrame schema."
   ]
  },
  {
   "cell_type": "code",
   "execution_count": 27,
   "metadata": {
    "colab": {
     "base_uri": "https://localhost:8080/"
    },
    "id": "bY-E6fQ7KIPp",
    "outputId": "e1c1ca13-d009-467c-f660-4efbcc42dd46"
   },
   "outputs": [
    {
     "name": "stdout",
     "output_type": "stream",
     "text": [
      "StructType(List(StructField(ADDRESS,StringType,true),StructField(SUBURB,StringType,true),StructField(PRICE,IntegerType,true),StructField(BEDROOMS,IntegerType,true),StructField(BATHROOMS,IntegerType,true),StructField(GARAGE,IntegerType,true),StructField(LAND_AREA,IntegerType,true),StructField(FLOOR_AREA,IntegerType,true),StructField(BUILD_YEAR,StringType,true),StructField(CBD_DIST,DecimalType(10,1),true),StructField(NEAREST_STN,StringType,true),StructField(NEAREST_STN_DIST,DecimalType(10,1),true),StructField(DATE_SOLD,StringType,true),StructField(POSTCODE,IntegerType,true),StructField(LATITUDE,DoubleType,true),StructField(LONGITUDE,DoubleType,true),StructField(NEAREST_SCH,StringType,true),StructField(NEAREST_SCH_DIST,DecimalType(10,1),true),StructField(NEAREST_SCH_RANK,IntegerType,true)))\n"
     ]
    }
   ],
   "source": [
    "schema = StructType([StructField(c[0], c[1], True) for c in dtype_labels])\n",
    "print(schema)"
   ]
  },
  {
   "cell_type": "code",
   "execution_count": 28,
   "metadata": {
    "colab": {
     "base_uri": "https://localhost:8080/"
    },
    "id": "fzUOBJdOLXQD",
    "outputId": "2575d800-ec2b-44e7-d06a-934a712d9283"
   },
   "outputs": [],
   "source": [
    "df = spark.read.csv('perth_data.csv', header=True, schema=schema)"
   ]
  },
  {
   "cell_type": "markdown",
   "metadata": {},
   "source": [
    "Now we can use PySpark DataFrame functions to transform our data.\n",
    "\n",
    "This is the link for the DataFrame functions documentation:\n",
    "\n",
    "https://spark.apache.org/docs/latest/api/python/reference/pyspark.sql.html#functions"
   ]
  },
  {
   "cell_type": "code",
   "execution_count": 29,
   "metadata": {},
   "outputs": [],
   "source": [
    "from pyspark.sql.functions import col, when, round, year, to_date, date_format, initcap, floor, mean\n",
    "from pyspark.sql.window import Window\n",
    "\n",
    "meanGarage = df.select(floor(mean(col('GARAGE')))).collect()[0][0]\n",
    "meanLandArea = df.select(floor(mean(col('LAND_AREA')))).collect()[0][0]\n",
    "\n",
    "df = df.withColumn('ADDRESS', initcap('ADDRESS')) \\\n",
    "        .withColumn('SUBURB', initcap('SUBURB')) \\\n",
    "        .withColumn('BEDROOMS', when(col('BEDROOMS') == 0, None).otherwise(col('BEDROOMS'))) \\\n",
    "        .withColumn('BATHROOMS', when(col('BATHROOMS') == 0, None).otherwise(col('BATHROOMS'))) \\\n",
    "        .withColumn('GARAGE', when(col('GARAGE') >= 50, meanGarage).otherwise(col('GARAGE'))) \\\n",
    "        .withColumn('GARAGE', when(col('GARAGE') == None, 0).otherwise(col('GARAGE'))) \\\n",
    "        .withColumn('LAND_AREA', when(col('LAND_AREA') >= 799999, meanLandArea).otherwise(col('LAND_AREA'))) \\\n",
    "        .withColumn('LAND_AREA', when(col('LAND_AREA') == None, 0).otherwise(col('LAND_AREA'))) \\\n",
    "        .withColumn('CBD_DIST', round(col('CBD_DIST') / 1000, 1)) \\\n",
    "        .withColumn('NEAREST_STN_DIST', round(col('NEAREST_STN_DIST') / 1000, 1)) \\\n",
    "        .withColumn('BUILD_YEAR', year(to_date('BUILD_YEAR', 'yyyy'))) \\\n",
    "        .withColumn('DATE_SOLD', to_date('DATE_SOLD', 'MM-yyyy')) \\\n",
    "        .withColumn('NEAREST_STN', initcap('NEAREST_STN')) \\\n",
    "        .withColumn('NEAREST_SCH', initcap('NEAREST_SCH'))    "
   ]
  },
  {
   "cell_type": "markdown",
   "metadata": {},
   "source": [
    "Let iterate through the columns and rename them replacing '_stn' to '_station', '_dist' to '_distance', and '_sch' to '_school' in order to make it more readable."
   ]
  },
  {
   "cell_type": "code",
   "execution_count": 30,
   "metadata": {},
   "outputs": [],
   "source": [
    "for col_ in df.columns:\n",
    "    df = df.withColumnRenamed(col_, (col_.replace('_STN', '_STATION')\n",
    "                                          .replace('_DIST', '_DISTANCE')\n",
    "                                          .replace('_SCH', '_SCHOOL').title()\n",
    "                                           )\n",
    "                             )"
   ]
  },
  {
   "cell_type": "code",
   "execution_count": 31,
   "metadata": {},
   "outputs": [
    {
     "data": {
      "text/html": [
       "<table border='1'>\n",
       "<tr><th>Address</th><th>Suburb</th><th>Price</th><th>Bedrooms</th><th>Bathrooms</th><th>Garage</th><th>Land_Area</th><th>Floor_Area</th><th>Build_Year</th><th>Cbd_Distance</th><th>Nearest_Station</th><th>Nearest_Station_Distance</th><th>Date_Sold</th><th>Postcode</th><th>Latitude</th><th>Longitude</th><th>Nearest_School</th><th>Nearest_School_Distance</th><th>Nearest_School_Rank</th></tr>\n",
       "<tr><td>1 Acorn Place</td><td>South Lake</td><td>565000</td><td>4</td><td>2</td><td>2</td><td>600</td><td>160</td><td>2003</td><td>18.3</td><td>Cockburn Central ...</td><td>1.8</td><td>2018-09-01</td><td>6164</td><td>-32.1159</td><td>115.84245</td><td>Lakeland Senior H...</td><td>0.8</td><td>null</td></tr>\n",
       "<tr><td>1 Addis Way</td><td>Wandi</td><td>365000</td><td>3</td><td>2</td><td>2</td><td>351</td><td>139</td><td>2013</td><td>26.9</td><td>Kwinana Station</td><td>4.9</td><td>2019-02-01</td><td>6167</td><td>-32.19347028</td><td>115.8595535</td><td>Atwell College</td><td>5.5</td><td>129</td></tr>\n",
       "<tr><td>1 Ainsley Court</td><td>Camillo</td><td>287000</td><td>3</td><td>1</td><td>1</td><td>719</td><td>86</td><td>1979</td><td>22.6</td><td>Challis Station</td><td>1.9</td><td>2015-06-01</td><td>6111</td><td>-32.12057813</td><td>115.993579</td><td>Kelmscott Senior ...</td><td>1.6</td><td>113</td></tr>\n",
       "<tr><td>1 Albert Street</td><td>Bellevue</td><td>255000</td><td>2</td><td>1</td><td>2</td><td>651</td><td>59</td><td>1953</td><td>17.9</td><td>Midland Station</td><td>3.6</td><td>2018-07-01</td><td>6056</td><td>-31.90054675</td><td>116.0380088</td><td>Swan View Senior ...</td><td>1.6</td><td>null</td></tr>\n",
       "<tr><td>1 Aman Place</td><td>Lockridge</td><td>325000</td><td>4</td><td>1</td><td>2</td><td>466</td><td>131</td><td>1998</td><td>11.2</td><td>Bassendean Station</td><td>2.0</td><td>2016-11-01</td><td>6054</td><td>-31.88579</td><td>115.94778</td><td>Kiara College</td><td>1.5</td><td>null</td></tr>\n",
       "</table>\n"
      ],
      "text/plain": [
       "+---------------+----------+------+--------+---------+------+---------+----------+----------+------------+--------------------+------------------------+----------+--------+------------+-----------+--------------------+-----------------------+-------------------+\n",
       "|        Address|    Suburb| Price|Bedrooms|Bathrooms|Garage|Land_Area|Floor_Area|Build_Year|Cbd_Distance|     Nearest_Station|Nearest_Station_Distance| Date_Sold|Postcode|    Latitude|  Longitude|      Nearest_School|Nearest_School_Distance|Nearest_School_Rank|\n",
       "+---------------+----------+------+--------+---------+------+---------+----------+----------+------------+--------------------+------------------------+----------+--------+------------+-----------+--------------------+-----------------------+-------------------+\n",
       "|  1 Acorn Place|South Lake|565000|       4|        2|     2|      600|       160|      2003|        18.3|Cockburn Central ...|                     1.8|2018-09-01|    6164|    -32.1159|  115.84245|Lakeland Senior H...|                    0.8|               null|\n",
       "|    1 Addis Way|     Wandi|365000|       3|        2|     2|      351|       139|      2013|        26.9|     Kwinana Station|                     4.9|2019-02-01|    6167|-32.19347028|115.8595535|      Atwell College|                    5.5|                129|\n",
       "|1 Ainsley Court|   Camillo|287000|       3|        1|     1|      719|        86|      1979|        22.6|     Challis Station|                     1.9|2015-06-01|    6111|-32.12057813| 115.993579|Kelmscott Senior ...|                    1.6|                113|\n",
       "|1 Albert Street|  Bellevue|255000|       2|        1|     2|      651|        59|      1953|        17.9|     Midland Station|                     3.6|2018-07-01|    6056|-31.90054675|116.0380088|Swan View Senior ...|                    1.6|               null|\n",
       "|   1 Aman Place| Lockridge|325000|       4|        1|     2|      466|       131|      1998|        11.2|  Bassendean Station|                     2.0|2016-11-01|    6054|   -31.88579|  115.94778|       Kiara College|                    1.5|               null|\n",
       "+---------------+----------+------+--------+---------+------+---------+----------+----------+------------+--------------------+------------------------+----------+--------+------------+-----------+--------------------+-----------------------+-------------------+"
      ]
     },
     "execution_count": 31,
     "metadata": {},
     "output_type": "execute_result"
    }
   ],
   "source": [
    "df.limit(3)"
   ]
  },
  {
   "cell_type": "markdown",
   "metadata": {},
   "source": [
    "Let's check the column names and data types now"
   ]
  },
  {
   "cell_type": "code",
   "execution_count": 32,
   "metadata": {},
   "outputs": [
    {
     "data": {
      "text/plain": [
       "[('Address', 'string'),\n",
       " ('Suburb', 'string'),\n",
       " ('Price', 'int'),\n",
       " ('Bedrooms', 'int'),\n",
       " ('Bathrooms', 'int'),\n",
       " ('Garage', 'int'),\n",
       " ('Land_Area', 'int'),\n",
       " ('Floor_Area', 'int'),\n",
       " ('Build_Year', 'int'),\n",
       " ('Cbd_Distance', 'decimal(15,1)'),\n",
       " ('Nearest_Station', 'string'),\n",
       " ('Nearest_Station_Distance', 'decimal(15,1)'),\n",
       " ('Date_Sold', 'date'),\n",
       " ('Postcode', 'int'),\n",
       " ('Latitude', 'double'),\n",
       " ('Longitude', 'double'),\n",
       " ('Nearest_School', 'string'),\n",
       " ('Nearest_School_Distance', 'decimal(10,1)'),\n",
       " ('Nearest_School_Rank', 'int')]"
      ]
     },
     "execution_count": 32,
     "metadata": {},
     "output_type": "execute_result"
    }
   ],
   "source": [
    "df.dtypes"
   ]
  },
  {
   "cell_type": "markdown",
   "metadata": {
    "id": "9MOelZbq2xiZ"
   },
   "source": [
    "# RDD (Resilient Distributed Dataset)"
   ]
  },
  {
   "cell_type": "markdown",
   "metadata": {
    "id": "oKcR6oEuaUlI"
   },
   "source": [
    "Spark revolves around the concept of a resilient distributed dataset (RDD), which is a fault-tolerant collection of elements that can be operated on in parallel. \n",
    "Virtually everything in Spark is built on top of RDDs.\n",
    "\n",
    "DataFrame operations are built on top of RDDs and compile down to these lower level tools for convenient and extremely efficient distributed execution. \n",
    "\n",
    "There are some things that you might use RDDs for, especially when you’re reading or manipulating raw data, but for the most part you should stick to the Structured APIs. \n",
    "\n",
    "RDDs are lower level than DataFrames because they reveal physical execution characteristics (like partitions) to end users."
   ]
  },
  {
   "cell_type": "markdown",
   "metadata": {},
   "source": [
    "There are two ways to create RDDs: parallelizing an existing collection in your driver program, or referencing a dataset in an external storage system."
   ]
  },
  {
   "cell_type": "markdown",
   "metadata": {
    "id": "w-PMA_iAMMHD"
   },
   "source": [
    "PySpark can create distributed datasets from any storage source supported by Hadoop, including your local file system, HDFS, Cassandra, HBase, Amazon S3, etc. \n",
    "\n",
    "Text file RDDs can be created using SparkContext’s textFile method. This method takes a URI for the file (either a local path on the machine, or a hdfs://, s3a://, etc URI) and reads it as a collection of lines. Here is an example invocation:"
   ]
  },
  {
   "cell_type": "code",
   "execution_count": 33,
   "metadata": {
    "id": "lXH4f4QlY5nu"
   },
   "outputs": [],
   "source": [
    "# Firstly, we have to create an instance 'sc' of sparkContext.\n",
    "sc = spark.sparkContext"
   ]
  },
  {
   "cell_type": "code",
   "execution_count": 34,
   "metadata": {},
   "outputs": [],
   "source": [
    "houses = sc.textFile('perth_data.csv')"
   ]
  },
  {
   "cell_type": "code",
   "execution_count": 35,
   "metadata": {
    "colab": {
     "base_uri": "https://localhost:8080/"
    },
    "id": "QLW8h9Qa3ruf",
    "outputId": "8fe188f6-3cd0-4c43-9a0b-9442955e3ae3"
   },
   "outputs": [
    {
     "name": "stdout",
     "output_type": "stream",
     "text": [
      "Header:\n",
      "ADDRESS,SUBURB,PRICE,BEDROOMS,BATHROOMS,GARAGE,LAND_AREA,FLOOR_AREA,BUILD_YEAR,CBD_DIST,NEAREST_STN,NEAREST_STN_DIST,DATE_SOLD,POSTCODE,LATITUDE,LONGITUDE,NEAREST_SCH,NEAREST_SCH_DIST,NEAREST_SCH_RANK\n",
      "\n",
      "First row:\n",
      "1 Acorn Place,South Lake,565000,4,2,2,600,160,2003,18300,Cockburn Central Station,1800,09-2018,6164,-32.1159,115.84245,LAKELAND SENIOR HIGH SCHOOL,0.8283385518162790,\n",
      "\n",
      "Dataset: 19 columns and 33656 rows\n"
     ]
    }
   ],
   "source": [
    "header = houses.first()\n",
    "content = houses.filter(lambda line: line != header)\n",
    "\n",
    "print('Header:')\n",
    "print(header)\n",
    "print()\n",
    "print('First row:')\n",
    "print(content.first())\n",
    "\n",
    "print(f'\\nDataset: {len(header.split(\",\"))} columns and {content.count()} rows')"
   ]
  },
  {
   "cell_type": "markdown",
   "metadata": {
    "id": "jbIsyVR7MEmy"
   },
   "source": [
    "Now we would need to set the schema and treat each column. I won't get into more details here as this is just a quick introduction. \n",
    "\n",
    "If you want to learn more about resilient distributed dataset's, I recommend you to go through this Spark programming guide:\n",
    "\n",
    "https://spark.apache.org/docs/latest/rdd-programming-guide.html"
   ]
  },
  {
   "cell_type": "markdown",
   "metadata": {
    "id": "kejBfkfAw8hW"
   },
   "source": [
    "# Data Modeling"
   ]
  },
  {
   "cell_type": "markdown",
   "metadata": {
    "id": "mqgRQme2M0hJ"
   },
   "source": [
    "Let's say we would like to create a table with the Streets and Postcodes grouped by Suburbs out of our dataset. \n",
    "\n",
    "We can split the Address into different columns in many ways. \n",
    "\n",
    "Let use SQL SPLIT() AND CONCAT() Built-in Functions.\n",
    "\n",
    "When we split a string, the result will be a list of 2 or more elements so that we can choose the element by its Index."
   ]
  },
  {
   "cell_type": "code",
   "execution_count": 36,
   "metadata": {
    "id": "OiKs2boKHMNd"
   },
   "outputs": [
    {
     "data": {
      "text/html": [
       "<table border='1'>\n",
       "<tr><th>Unit_Number</th><th>Street_Number</th><th>Street_Name</th><th>Suburb</th><th>Postcode</th></tr>\n",
       "<tr><td>1</td><td>1</td><td>Coolgardie Street</td><td>West Perth</td><td>6005</td></tr>\n",
       "<tr><td>1</td><td>1</td><td>French Street</td><td>Ashfield</td><td>6054</td></tr>\n",
       "<tr><td>1</td><td>1</td><td>Lentona Road</td><td>Attadale</td><td>6156</td></tr>\n",
       "<tr><td>1</td><td>1</td><td>Muriel Avenue</td><td>Woodlands</td><td>6018</td></tr>\n",
       "<tr><td>1</td><td>1</td><td>Wingfield Avenue</td><td>Crawley</td><td>6009</td></tr>\n",
       "</table>\n"
      ],
      "text/plain": [
       "+-----------+-------------+-----------------+----------+--------+\n",
       "|Unit_Number|Street_Number|      Street_Name|    Suburb|Postcode|\n",
       "+-----------+-------------+-----------------+----------+--------+\n",
       "|          1|            1|Coolgardie Street|West Perth|    6005|\n",
       "|          1|            1|    French Street|  Ashfield|    6054|\n",
       "|          1|            1|     Lentona Road|  Attadale|    6156|\n",
       "|          1|            1|    Muriel Avenue| Woodlands|    6018|\n",
       "|          1|            1| Wingfield Avenue|   Crawley|    6009|\n",
       "+-----------+-------------+-----------------+----------+--------+"
      ]
     },
     "execution_count": 36,
     "metadata": {},
     "output_type": "execute_result"
    }
   ],
   "source": [
    "spark.sql('''\n",
    "CREATE OR REPLACE TEMPORARY VIEW split_address AS\n",
    "SELECT \n",
    "    CASE WHEN SPLIT(Address, '/')[1] IS NULL THEN NULL ELSE SPLIT(Address, '/')[0] END Unit_Number\n",
    "    ,COALESCE(SPLIT(SPLIT(Address, ' ')[0], '/')[1], SPLIT(split(Address, ' ')[0], '/')[0]) AS Street_Number\n",
    "    ,CASE WHEN SPLIT(Address, ' ')[4] IS NOT NULL THEN CONCAT(SPLIT(Address, ' ')[1],' ', SPLIT(Address, ' ')[2], ' ',SPLIT(Address, ' ')[3], ' ', SPLIT(Address, ' ')[4])\n",
    "        WHEN SPLIT(Address, ' ')[3] IS NOT NULL THEN CONCAT(SPLIT(Address, ' ')[1],' ', SPLIT(Address, ' ')[2], ' ',SPLIT(Address, ' ')[3])\n",
    "        WHEN SPLIT(Address, ' ')[2] IS NOT NULL THEN CONCAT(SPLIT(Address, ' ')[1],' ', SPLIT(Address, ' ')[2])\n",
    "        ELSE SPLIT(Address, ' ')[1] END AS Street_Name\n",
    "    ,Suburb\n",
    "    ,Postcode\n",
    "FROM perth_housing\n",
    "    ''')\n",
    "\n",
    "spark.sql('SELECT * FROM split_address WHERE Unit_Number IS NOT NULL').limit(5)"
   ]
  },
  {
   "cell_type": "markdown",
   "metadata": {},
   "source": [
    "Let's now create another temporary view where we set an ID and also an Average CBD Distance for each Suburb.\n",
    "We'll call it id_distance_suburb"
   ]
  },
  {
   "cell_type": "code",
   "execution_count": 37,
   "metadata": {},
   "outputs": [
    {
     "data": {
      "text/html": [
       "<table border='1'>\n",
       "<tr><th>ID_Suburb</th><th>Suburb</th><th>Average_Cbd_Distance</th></tr>\n",
       "<tr><td>1</td><td>Alexander Heights</td><td>14.0</td></tr>\n",
       "<tr><td>2</td><td>Alfred Cove</td><td>9.8</td></tr>\n",
       "<tr><td>3</td><td>Alkimos</td><td>40.7</td></tr>\n",
       "<tr><td>4</td><td>Anketell</td><td>29.4</td></tr>\n",
       "<tr><td>5</td><td>Applecross</td><td>7.1</td></tr>\n",
       "</table>\n"
      ],
      "text/plain": [
       "+---------+-----------------+--------------------+\n",
       "|ID_Suburb|           Suburb|Average_Cbd_Distance|\n",
       "+---------+-----------------+--------------------+\n",
       "|        1|Alexander Heights|                14.0|\n",
       "|        2|      Alfred Cove|                 9.8|\n",
       "|        3|          Alkimos|                40.7|\n",
       "|        4|         Anketell|                29.4|\n",
       "|        5|       Applecross|                 7.1|\n",
       "+---------+-----------------+--------------------+"
      ]
     },
     "execution_count": 37,
     "metadata": {},
     "output_type": "execute_result"
    }
   ],
   "source": [
    "spark.sql(\"\"\"\n",
    "        CREATE OR REPLACE TEMPORARY VIEW id_distance_suburb AS\n",
    "        SELECT\n",
    "            ROW_NUMBER() OVER (ORDER BY Suburb) ID_Suburb\n",
    "            ,*\n",
    "        FROM(\n",
    "            SELECT\n",
    "                DISTINCT\n",
    "                Suburb\n",
    "                ,ROUND(AVG(Cbd_Distance) OVER (PARTITION BY Suburb), 1) Average_Cbd_Distance\n",
    "            FROM perth_housing\n",
    "            )\n",
    "        \"\"\")\n",
    "\n",
    "spark.sql('SELECT * FROM id_distance_suburb').limit(5)"
   ]
  },
  {
   "cell_type": "markdown",
   "metadata": {},
   "source": [
    "We can join both temporary views now using INNER JOIN and create a new one called 'suburbs'."
   ]
  },
  {
   "cell_type": "code",
   "execution_count": 38,
   "metadata": {},
   "outputs": [
    {
     "data": {
      "text/html": [
       "<table border='1'>\n",
       "<tr><th></th></tr>\n",
       "</table>\n"
      ],
      "text/plain": [
       "++\n",
       "||\n",
       "++\n",
       "++"
      ]
     },
     "execution_count": 38,
     "metadata": {},
     "output_type": "execute_result"
    }
   ],
   "source": [
    "spark.sql('''\n",
    "        CREATE OR REPLACE TEMPORARY VIEW suburbs AS\n",
    "        SELECT\n",
    "            DISTINCT\n",
    "            ID_Suburb\n",
    "            ,Suburb\n",
    "            ,Street_Name\n",
    "            ,EXPLODE(Postcodes) AS Postcode\n",
    "            ,Average_Cbd_Distance\n",
    "        FROM (\n",
    "            SELECT\n",
    "                ID_Suburb\n",
    "                ,Suburb\n",
    "                ,EXPLODE(Street_Names) AS Street_Name\n",
    "                ,Postcodes\n",
    "                ,Average_Cbd_Distance\n",
    "            FROM (\n",
    "                SELECT \n",
    "                    DISTINCT\n",
    "                    ad.Suburb\n",
    "                    ,id.ID_Suburb\n",
    "                    ,id.Average_Cbd_Distance\n",
    "                    ,COLLECT_SET(Street_Name) OVER (PARTITION BY ad.Suburb) Street_Names\n",
    "                    ,COLLECT_SET(Postcode) OVER (PARTITION BY ad.Suburb) Postcodes\n",
    "                FROM split_address ad\n",
    "                INNER JOIN id_distance_suburb id\n",
    "                    ON ad.Suburb = id.Suburb\n",
    "                    )\n",
    "                )\n",
    "        ''')"
   ]
  },
  {
   "cell_type": "markdown",
   "metadata": {},
   "source": [
    "Here's our suburbs temporary view with all the different Streets, Postcodes, particular Id and, Average CBD Distance for each Suburb."
   ]
  },
  {
   "cell_type": "code",
   "execution_count": 39,
   "metadata": {},
   "outputs": [
    {
     "data": {
      "text/html": [
       "<table border='1'>\n",
       "<tr><th>ID_Suburb</th><th>Suburb</th><th>Street_Name</th><th>Postcode</th><th>Average_Cbd_Distance</th></tr>\n",
       "<tr><td>1</td><td>Alexander Heights</td><td>Farnell Place</td><td>6064</td><td>14.0</td></tr>\n",
       "<tr><td>1</td><td>Alexander Heights</td><td>Leicester Square</td><td>6064</td><td>14.0</td></tr>\n",
       "<tr><td>1</td><td>Alexander Heights</td><td>Goldsworthy Entrance</td><td>6064</td><td>14.0</td></tr>\n",
       "<tr><td>1</td><td>Alexander Heights</td><td>Park Lane</td><td>6064</td><td>14.0</td></tr>\n",
       "<tr><td>1</td><td>Alexander Heights</td><td>Erebus Court</td><td>6064</td><td>14.0</td></tr>\n",
       "</table>\n"
      ],
      "text/plain": [
       "+---------+-----------------+--------------------+--------+--------------------+\n",
       "|ID_Suburb|           Suburb|         Street_Name|Postcode|Average_Cbd_Distance|\n",
       "+---------+-----------------+--------------------+--------+--------------------+\n",
       "|        1|Alexander Heights|       Farnell Place|    6064|                14.0|\n",
       "|        1|Alexander Heights|    Leicester Square|    6064|                14.0|\n",
       "|        1|Alexander Heights|Goldsworthy Entrance|    6064|                14.0|\n",
       "|        1|Alexander Heights|           Park Lane|    6064|                14.0|\n",
       "|        1|Alexander Heights|        Erebus Court|    6064|                14.0|\n",
       "+---------+-----------------+--------------------+--------+--------------------+"
      ]
     },
     "execution_count": 39,
     "metadata": {},
     "output_type": "execute_result"
    }
   ],
   "source": [
    "spark.sql('SELECT * FROM suburbs ORDER BY ID_Suburb').limit(5)"
   ]
  },
  {
   "cell_type": "markdown",
   "metadata": {
    "id": "WrUmP2rlpnem"
   },
   "source": [
    "# PySpark and Spark SQL"
   ]
  },
  {
   "cell_type": "markdown",
   "metadata": {
    "id": "F-W7eYs2rKRn"
   },
   "source": [
    "There are many ways to select data in PySpark. The commands below are examples of how to count the distinct values of the 'Suburb' column."
   ]
  },
  {
   "cell_type": "code",
   "execution_count": 40,
   "metadata": {
    "id": "eqJHnGojy6D1"
   },
   "outputs": [
    {
     "data": {
      "text/plain": [
       "321"
      ]
     },
     "execution_count": 40,
     "metadata": {},
     "output_type": "execute_result"
    }
   ],
   "source": [
    "from pyspark.sql.functions import countDistinct\n",
    "#1 using countDistinct Function and calling the column (df['Suburb'])\n",
    "df.select(countDistinct(df['Suburb'])).first()[0]"
   ]
  },
  {
   "cell_type": "code",
   "execution_count": 41,
   "metadata": {
    "id": "HDsk2orM93R6"
   },
   "outputs": [
    {
     "data": {
      "text/plain": [
       "321"
      ]
     },
     "execution_count": 41,
     "metadata": {},
     "output_type": "execute_result"
    }
   ],
   "source": [
    "from pyspark.sql.functions import col\n",
    "#2 using col Function (col('Suburb'))\n",
    "df.select(col('Suburb')).distinct().count()"
   ]
  },
  {
   "cell_type": "code",
   "execution_count": 42,
   "metadata": {
    "id": "Ym76mxSiklOD"
   },
   "outputs": [
    {
     "data": {
      "text/plain": [
       "321"
      ]
     },
     "execution_count": 42,
     "metadata": {},
     "output_type": "execute_result"
    }
   ],
   "source": [
    "#3 calling the column name ('Suburb')\n",
    "df.select('Suburb').distinct().count()"
   ]
  },
  {
   "cell_type": "code",
   "execution_count": 43,
   "metadata": {
    "id": "7w4riUkDlDyq"
   },
   "outputs": [
    {
     "data": {
      "text/plain": [
       "321"
      ]
     },
     "execution_count": 43,
     "metadata": {},
     "output_type": "execute_result"
    }
   ],
   "source": [
    "#3 calling the column name (df.Suburb)\n",
    "df.select(df.Suburb).distinct().count()"
   ]
  },
  {
   "cell_type": "markdown",
   "metadata": {
    "id": "0ZWuyxl3sjeJ"
   },
   "source": [
    "As you can see, we have 321 different of values for 'Suburb'. \n",
    "\n",
    "We can also use Spark SQL to query it."
   ]
  },
  {
   "cell_type": "code",
   "execution_count": 44,
   "metadata": {
    "id": "2JzsSSxWtIG1"
   },
   "outputs": [
    {
     "data": {
      "text/plain": [
       "321"
      ]
     },
     "execution_count": 44,
     "metadata": {},
     "output_type": "execute_result"
    }
   ],
   "source": [
    "spark.sql('SELECT COUNT(DISTINCT Suburb) FROM perth_housing').first()[0]"
   ]
  },
  {
   "cell_type": "markdown",
   "metadata": {
    "id": "NXPqKjoq1Phi"
   },
   "source": [
    "### Execution"
   ]
  },
  {
   "cell_type": "markdown",
   "metadata": {
    "id": "poyiU0-opwi5"
   },
   "source": [
    "Let's use the ipython magic function %timeit to measure how long it is taking to process our queries. \n",
    "\n",
    "Important: The results should not be taken for granted since they will depend on several variables such as your dataset size, data source, your machine, running on a cluster, Spark version, and so on. \n",
    "\n",
    "This is just to get a rough comparison."
   ]
  },
  {
   "cell_type": "code",
   "execution_count": 45,
   "metadata": {
    "id": "9WRWpkRO2ZE9"
   },
   "outputs": [
    {
     "name": "stdout",
     "output_type": "stream",
     "text": [
      "PySpark DataFrame:\n",
      "1.93 s ± 134 ms per loop (mean ± std. dev. of 7 runs, 1 loop each)\n",
      "\n",
      "Spark SQL:\n",
      "13 ms ± 851 µs per loop (mean ± std. dev. of 7 runs, 100 loops each)\n"
     ]
    }
   ],
   "source": [
    "print('PySpark DataFrame:')\n",
    "%timeit df.select('Bathrooms').distinct().count()\n",
    "print('\\nSpark SQL:')\n",
    "%timeit spark.sql('select count(distinct Bathrooms) from perth_housing')"
   ]
  },
  {
   "cell_type": "markdown",
   "metadata": {
    "id": "aleW0B710nE9"
   },
   "source": [
    "### Add Columns in PySpark"
   ]
  },
  {
   "cell_type": "code",
   "execution_count": 46,
   "metadata": {
    "id": "qnnLyrsU0y7y"
   },
   "outputs": [
    {
     "data": {
      "text/html": [
       "<table border='1'>\n",
       "<tr><th>Address</th><th>Suburb</th><th>Price</th><th>Bedrooms</th><th>Bathrooms</th><th>Garage</th><th>Land_Area</th><th>Floor_Area</th><th>Build_Year</th><th>Cbd_Distance</th><th>Nearest_Station</th><th>Nearest_Station_Distance</th><th>Date_Sold</th><th>Postcode</th><th>Latitude</th><th>Longitude</th><th>Nearest_School</th><th>Nearest_School_Distance</th><th>Nearest_School_Rank</th><th>New_Column_1</th></tr>\n",
       "<tr><td>1 Acorn Place</td><td>South Lake</td><td>565000</td><td>4</td><td>2</td><td>2</td><td>600</td><td>160</td><td>2003</td><td>18.3</td><td>Cockburn Central ...</td><td>1.8</td><td>2018-09-01</td><td>6164</td><td>-32.1159</td><td>115.84245</td><td>Lakeland Senior H...</td><td>0.8</td><td>null</td><td>1</td></tr>\n",
       "<tr><td>1 Addis Way</td><td>Wandi</td><td>365000</td><td>3</td><td>2</td><td>2</td><td>351</td><td>139</td><td>2013</td><td>26.9</td><td>Kwinana Station</td><td>4.9</td><td>2019-02-01</td><td>6167</td><td>-32.19347028</td><td>115.8595535</td><td>Atwell College</td><td>5.5</td><td>129</td><td>1</td></tr>\n",
       "<tr><td>1 Ainsley Court</td><td>Camillo</td><td>287000</td><td>3</td><td>1</td><td>1</td><td>719</td><td>86</td><td>1979</td><td>22.6</td><td>Challis Station</td><td>1.9</td><td>2015-06-01</td><td>6111</td><td>-32.12057813</td><td>115.993579</td><td>Kelmscott Senior ...</td><td>1.6</td><td>113</td><td>1</td></tr>\n",
       "</table>\n"
      ],
      "text/plain": [
       "+---------------+----------+------+--------+---------+------+---------+----------+----------+------------+--------------------+------------------------+----------+--------+------------+-----------+--------------------+-----------------------+-------------------+------------+\n",
       "|        Address|    Suburb| Price|Bedrooms|Bathrooms|Garage|Land_Area|Floor_Area|Build_Year|Cbd_Distance|     Nearest_Station|Nearest_Station_Distance| Date_Sold|Postcode|    Latitude|  Longitude|      Nearest_School|Nearest_School_Distance|Nearest_School_Rank|New_Column_1|\n",
       "+---------------+----------+------+--------+---------+------+---------+----------+----------+------------+--------------------+------------------------+----------+--------+------------+-----------+--------------------+-----------------------+-------------------+------------+\n",
       "|  1 Acorn Place|South Lake|565000|       4|        2|     2|      600|       160|      2003|        18.3|Cockburn Central ...|                     1.8|2018-09-01|    6164|    -32.1159|  115.84245|Lakeland Senior H...|                    0.8|               null|           1|\n",
       "|    1 Addis Way|     Wandi|365000|       3|        2|     2|      351|       139|      2013|        26.9|     Kwinana Station|                     4.9|2019-02-01|    6167|-32.19347028|115.8595535|      Atwell College|                    5.5|                129|           1|\n",
       "|1 Ainsley Court|   Camillo|287000|       3|        1|     1|      719|        86|      1979|        22.6|     Challis Station|                     1.9|2015-06-01|    6111|-32.12057813| 115.993579|Kelmscott Senior ...|                    1.6|                113|           1|\n",
       "+---------------+----------+------+--------+---------+------+---------+----------+----------+------------+--------------------+------------------------+----------+--------+------------+-----------+--------------------+-----------------------+-------------------+------------+"
      ]
     },
     "execution_count": 46,
     "metadata": {},
     "output_type": "execute_result"
    }
   ],
   "source": [
    "from pyspark.sql.functions import lit\n",
    "# withColumn() method\n",
    "# For this example, let's import the function lit. It is used to insert constant values\n",
    "\n",
    "df = df.withColumn('New_Column_1', lit(1))\n",
    "df.limit(3)"
   ]
  },
  {
   "cell_type": "code",
   "execution_count": 47,
   "metadata": {
    "id": "qeWG2SwchgXJ"
   },
   "outputs": [
    {
     "data": {
      "text/html": [
       "<table border='1'>\n",
       "<tr><th>Address</th><th>Suburb</th><th>Price</th><th>Bedrooms</th><th>Bathrooms</th><th>Garage</th><th>Land_Area</th><th>Floor_Area</th><th>Build_Year</th><th>Cbd_Distance</th><th>Nearest_Station</th><th>Nearest_Station_Distance</th><th>Date_Sold</th><th>Postcode</th><th>Latitude</th><th>Longitude</th><th>Nearest_School</th><th>Nearest_School_Distance</th><th>Nearest_School_Rank</th><th>New_Column_1</th><th>New_Column_2</th><th>New_Column_3</th></tr>\n",
       "<tr><td>1 Acorn Place</td><td>South Lake</td><td>565000</td><td>4</td><td>2</td><td>2</td><td>600</td><td>160</td><td>2003</td><td>18.3</td><td>Cockburn Central ...</td><td>1.8</td><td>2018-09-01</td><td>6164</td><td>-32.1159</td><td>115.84245</td><td>Lakeland Senior H...</td><td>0.8</td><td>null</td><td>1</td><td>Spark</td><td>awesome</td></tr>\n",
       "<tr><td>1 Addis Way</td><td>Wandi</td><td>365000</td><td>3</td><td>2</td><td>2</td><td>351</td><td>139</td><td>2013</td><td>26.9</td><td>Kwinana Station</td><td>4.9</td><td>2019-02-01</td><td>6167</td><td>-32.19347028</td><td>115.8595535</td><td>Atwell College</td><td>5.5</td><td>129</td><td>1</td><td>Spark</td><td>awesome</td></tr>\n",
       "<tr><td>1 Ainsley Court</td><td>Camillo</td><td>287000</td><td>3</td><td>1</td><td>1</td><td>719</td><td>86</td><td>1979</td><td>22.6</td><td>Challis Station</td><td>1.9</td><td>2015-06-01</td><td>6111</td><td>-32.12057813</td><td>115.993579</td><td>Kelmscott Senior ...</td><td>1.6</td><td>113</td><td>1</td><td>Spark</td><td>awesome</td></tr>\n",
       "</table>\n"
      ],
      "text/plain": [
       "+---------------+----------+------+--------+---------+------+---------+----------+----------+------------+--------------------+------------------------+----------+--------+------------+-----------+--------------------+-----------------------+-------------------+------------+------------+------------+\n",
       "|        Address|    Suburb| Price|Bedrooms|Bathrooms|Garage|Land_Area|Floor_Area|Build_Year|Cbd_Distance|     Nearest_Station|Nearest_Station_Distance| Date_Sold|Postcode|    Latitude|  Longitude|      Nearest_School|Nearest_School_Distance|Nearest_School_Rank|New_Column_1|New_Column_2|New_Column_3|\n",
       "+---------------+----------+------+--------+---------+------+---------+----------+----------+------------+--------------------+------------------------+----------+--------+------------+-----------+--------------------+-----------------------+-------------------+------------+------------+------------+\n",
       "|  1 Acorn Place|South Lake|565000|       4|        2|     2|      600|       160|      2003|        18.3|Cockburn Central ...|                     1.8|2018-09-01|    6164|    -32.1159|  115.84245|Lakeland Senior H...|                    0.8|               null|           1|       Spark|     awesome|\n",
       "|    1 Addis Way|     Wandi|365000|       3|        2|     2|      351|       139|      2013|        26.9|     Kwinana Station|                     4.9|2019-02-01|    6167|-32.19347028|115.8595535|      Atwell College|                    5.5|                129|           1|       Spark|     awesome|\n",
       "|1 Ainsley Court|   Camillo|287000|       3|        1|     1|      719|        86|      1979|        22.6|     Challis Station|                     1.9|2015-06-01|    6111|-32.12057813| 115.993579|Kelmscott Senior ...|                    1.6|                113|           1|       Spark|     awesome|\n",
       "+---------------+----------+------+--------+---------+------+---------+----------+----------+------------+--------------------+------------------------+----------+--------+------------+-----------+--------------------+-----------------------+-------------------+------------+------------+------------+"
      ]
     },
     "execution_count": 47,
     "metadata": {},
     "output_type": "execute_result"
    }
   ],
   "source": [
    "# adding multiple columns\n",
    "df = df.withColumn('New_Column_2', lit('Spark')) \\\n",
    "        .withColumn('New_Column_3', lit('awesome'))\n",
    "\n",
    "df.limit(3)"
   ]
  },
  {
   "cell_type": "code",
   "execution_count": 48,
   "metadata": {
    "id": "migIonkhywV6"
   },
   "outputs": [
    {
     "data": {
      "text/html": [
       "<table border='1'>\n",
       "<tr><th>Address</th><th>Suburb</th><th>Price</th><th>Bedrooms</th><th>Bathrooms</th><th>Garage</th><th>Land_Area</th><th>Floor_Area</th><th>Build_Year</th><th>Cbd_Distance</th><th>Nearest_Station</th><th>Nearest_Station_Distance</th><th>Date_Sold</th><th>Postcode</th><th>Latitude</th><th>Longitude</th><th>Nearest_School</th><th>Nearest_School_Distance</th><th>Nearest_School_Rank</th><th>New_Column_1</th><th>New_Column_2</th><th>New_Column_3</th><th>New_Column_Concat</th></tr>\n",
       "<tr><td>1 Acorn Place</td><td>South Lake</td><td>565000</td><td>4</td><td>2</td><td>2</td><td>600</td><td>160</td><td>2003</td><td>18.3</td><td>Cockburn Central ...</td><td>1.8</td><td>2018-09-01</td><td>6164</td><td>-32.1159</td><td>115.84245</td><td>Lakeland Senior H...</td><td>0.8</td><td>null</td><td>1</td><td>Spark</td><td>awesome</td><td>Spark is 100% awe...</td></tr>\n",
       "<tr><td>1 Addis Way</td><td>Wandi</td><td>365000</td><td>3</td><td>2</td><td>2</td><td>351</td><td>139</td><td>2013</td><td>26.9</td><td>Kwinana Station</td><td>4.9</td><td>2019-02-01</td><td>6167</td><td>-32.19347028</td><td>115.8595535</td><td>Atwell College</td><td>5.5</td><td>129</td><td>1</td><td>Spark</td><td>awesome</td><td>Spark is 100% awe...</td></tr>\n",
       "<tr><td>1 Ainsley Court</td><td>Camillo</td><td>287000</td><td>3</td><td>1</td><td>1</td><td>719</td><td>86</td><td>1979</td><td>22.6</td><td>Challis Station</td><td>1.9</td><td>2015-06-01</td><td>6111</td><td>-32.12057813</td><td>115.993579</td><td>Kelmscott Senior ...</td><td>1.6</td><td>113</td><td>1</td><td>Spark</td><td>awesome</td><td>Spark is 100% awe...</td></tr>\n",
       "</table>\n"
      ],
      "text/plain": [
       "+---------------+----------+------+--------+---------+------+---------+----------+----------+------------+--------------------+------------------------+----------+--------+------------+-----------+--------------------+-----------------------+-------------------+------------+------------+------------+--------------------+\n",
       "|        Address|    Suburb| Price|Bedrooms|Bathrooms|Garage|Land_Area|Floor_Area|Build_Year|Cbd_Distance|     Nearest_Station|Nearest_Station_Distance| Date_Sold|Postcode|    Latitude|  Longitude|      Nearest_School|Nearest_School_Distance|Nearest_School_Rank|New_Column_1|New_Column_2|New_Column_3|   New_Column_Concat|\n",
       "+---------------+----------+------+--------+---------+------+---------+----------+----------+------------+--------------------+------------------------+----------+--------+------------+-----------+--------------------+-----------------------+-------------------+------------+------------+------------+--------------------+\n",
       "|  1 Acorn Place|South Lake|565000|       4|        2|     2|      600|       160|      2003|        18.3|Cockburn Central ...|                     1.8|2018-09-01|    6164|    -32.1159|  115.84245|Lakeland Senior H...|                    0.8|               null|           1|       Spark|     awesome|Spark is 100% awe...|\n",
       "|    1 Addis Way|     Wandi|365000|       3|        2|     2|      351|       139|      2013|        26.9|     Kwinana Station|                     4.9|2019-02-01|    6167|-32.19347028|115.8595535|      Atwell College|                    5.5|                129|           1|       Spark|     awesome|Spark is 100% awe...|\n",
       "|1 Ainsley Court|   Camillo|287000|       3|        1|     1|      719|        86|      1979|        22.6|     Challis Station|                     1.9|2015-06-01|    6111|-32.12057813| 115.993579|Kelmscott Senior ...|                    1.6|                113|           1|       Spark|     awesome|Spark is 100% awe...|\n",
       "+---------------+----------+------+--------+---------+------+---------+----------+----------+------------+--------------------+------------------------+----------+--------+------------+-----------+--------------------+-----------------------+-------------------+------------+------------+------------+--------------------+"
      ]
     },
     "execution_count": 48,
     "metadata": {},
     "output_type": "execute_result"
    }
   ],
   "source": [
    "from pyspark.sql.functions import col, concat\n",
    "\n",
    "df = df.withColumn('New_Column_Concat', concat(\n",
    "                                              col('New_Column_2'), \n",
    "                                              lit(' is '), \n",
    "                                              col('New_Column_1') * lit(100), \n",
    "                                              lit('% '), \n",
    "                                              col('New_Column_3'))\n",
    "                                              )\n",
    "df.limit(3)"
   ]
  },
  {
   "cell_type": "markdown",
   "metadata": {
    "id": "5wDprWm40zPp"
   },
   "source": [
    "### Rename Columns in PySpark"
   ]
  },
  {
   "cell_type": "code",
   "execution_count": 49,
   "metadata": {
    "id": "PFStEl53nQD0"
   },
   "outputs": [
    {
     "data": {
      "text/html": [
       "<table border='1'>\n",
       "<tr><th>Address</th><th>Suburb</th><th>Price</th><th>Bedrooms</th><th>Bathrooms</th><th>Garage</th><th>Land_Area</th><th>Floor_Area</th><th>Build_Year</th><th>Cbd_Distance</th><th>Nearest_Station</th><th>Nearest_Station_Distance</th><th>Date_Sold</th><th>Postcode</th><th>Latitude</th><th>Longitude</th><th>Nearest_School</th><th>Nearest_School_Distance</th><th>Nearest_School_Rank</th><th>New_Column</th><th>Tool</th><th>Adjective</th><th>Truth</th></tr>\n",
       "<tr><td>1 Acorn Place</td><td>South Lake</td><td>565000</td><td>4</td><td>2</td><td>2</td><td>600</td><td>160</td><td>2003</td><td>18.3</td><td>Cockburn Central ...</td><td>1.8</td><td>2018-09-01</td><td>6164</td><td>-32.1159</td><td>115.84245</td><td>Lakeland Senior H...</td><td>0.8</td><td>null</td><td>1</td><td>Spark</td><td>awesome</td><td>Spark is 100% awe...</td></tr>\n",
       "<tr><td>1 Addis Way</td><td>Wandi</td><td>365000</td><td>3</td><td>2</td><td>2</td><td>351</td><td>139</td><td>2013</td><td>26.9</td><td>Kwinana Station</td><td>4.9</td><td>2019-02-01</td><td>6167</td><td>-32.19347028</td><td>115.8595535</td><td>Atwell College</td><td>5.5</td><td>129</td><td>1</td><td>Spark</td><td>awesome</td><td>Spark is 100% awe...</td></tr>\n",
       "<tr><td>1 Ainsley Court</td><td>Camillo</td><td>287000</td><td>3</td><td>1</td><td>1</td><td>719</td><td>86</td><td>1979</td><td>22.6</td><td>Challis Station</td><td>1.9</td><td>2015-06-01</td><td>6111</td><td>-32.12057813</td><td>115.993579</td><td>Kelmscott Senior ...</td><td>1.6</td><td>113</td><td>1</td><td>Spark</td><td>awesome</td><td>Spark is 100% awe...</td></tr>\n",
       "</table>\n"
      ],
      "text/plain": [
       "+---------------+----------+------+--------+---------+------+---------+----------+----------+------------+--------------------+------------------------+----------+--------+------------+-----------+--------------------+-----------------------+-------------------+----------+-----+---------+--------------------+\n",
       "|        Address|    Suburb| Price|Bedrooms|Bathrooms|Garage|Land_Area|Floor_Area|Build_Year|Cbd_Distance|     Nearest_Station|Nearest_Station_Distance| Date_Sold|Postcode|    Latitude|  Longitude|      Nearest_School|Nearest_School_Distance|Nearest_School_Rank|New_Column| Tool|Adjective|               Truth|\n",
       "+---------------+----------+------+--------+---------+------+---------+----------+----------+------------+--------------------+------------------------+----------+--------+------------+-----------+--------------------+-----------------------+-------------------+----------+-----+---------+--------------------+\n",
       "|  1 Acorn Place|South Lake|565000|       4|        2|     2|      600|       160|      2003|        18.3|Cockburn Central ...|                     1.8|2018-09-01|    6164|    -32.1159|  115.84245|Lakeland Senior H...|                    0.8|               null|         1|Spark|  awesome|Spark is 100% awe...|\n",
       "|    1 Addis Way|     Wandi|365000|       3|        2|     2|      351|       139|      2013|        26.9|     Kwinana Station|                     4.9|2019-02-01|    6167|-32.19347028|115.8595535|      Atwell College|                    5.5|                129|         1|Spark|  awesome|Spark is 100% awe...|\n",
       "|1 Ainsley Court|   Camillo|287000|       3|        1|     1|      719|        86|      1979|        22.6|     Challis Station|                     1.9|2015-06-01|    6111|-32.12057813| 115.993579|Kelmscott Senior ...|                    1.6|                113|         1|Spark|  awesome|Spark is 100% awe...|\n",
       "+---------------+----------+------+--------+---------+------+---------+----------+----------+------------+--------------------+------------------------+----------+--------+------------+-----------+--------------------+-----------------------+-------------------+----------+-----+---------+--------------------+"
      ]
     },
     "execution_count": 49,
     "metadata": {},
     "output_type": "execute_result"
    }
   ],
   "source": [
    "# withColumnRenamed() method\n",
    "\n",
    "df = df.withColumnRenamed('New_Column_1', 'New_Column')\\\n",
    "        .withColumnRenamed('New_Column_2', 'Tool')\\\n",
    "        .withColumnRenamed('New_Column_3', 'Adjective')\\\n",
    "        .withColumnRenamed('New_Column_Concat', 'Truth')\n",
    "df.limit(3)"
   ]
  },
  {
   "cell_type": "markdown",
   "metadata": {
    "id": "aAoOjPzQAcHr"
   },
   "source": [
    "### Drop Columns in PySpark"
   ]
  },
  {
   "cell_type": "code",
   "execution_count": 50,
   "metadata": {
    "id": "wZtyb9KsBd4T"
   },
   "outputs": [
    {
     "data": {
      "text/html": [
       "<table border='1'>\n",
       "<tr><th>Address</th><th>Suburb</th><th>Price</th><th>Bedrooms</th><th>Bathrooms</th><th>Garage</th><th>Land_Area</th><th>Floor_Area</th><th>Build_Year</th><th>Cbd_Distance</th><th>Nearest_Station</th><th>Nearest_Station_Distance</th><th>Date_Sold</th><th>Postcode</th><th>Latitude</th><th>Longitude</th><th>Nearest_School</th><th>Nearest_School_Distance</th><th>Nearest_School_Rank</th><th>Tool</th><th>Adjective</th><th>Truth</th></tr>\n",
       "<tr><td>1 Acorn Place</td><td>South Lake</td><td>565000</td><td>4</td><td>2</td><td>2</td><td>600</td><td>160</td><td>2003</td><td>18.3</td><td>Cockburn Central ...</td><td>1.8</td><td>2018-09-01</td><td>6164</td><td>-32.1159</td><td>115.84245</td><td>Lakeland Senior H...</td><td>0.8</td><td>null</td><td>Spark</td><td>awesome</td><td>Spark is 100% awe...</td></tr>\n",
       "<tr><td>1 Addis Way</td><td>Wandi</td><td>365000</td><td>3</td><td>2</td><td>2</td><td>351</td><td>139</td><td>2013</td><td>26.9</td><td>Kwinana Station</td><td>4.9</td><td>2019-02-01</td><td>6167</td><td>-32.19347028</td><td>115.8595535</td><td>Atwell College</td><td>5.5</td><td>129</td><td>Spark</td><td>awesome</td><td>Spark is 100% awe...</td></tr>\n",
       "<tr><td>1 Ainsley Court</td><td>Camillo</td><td>287000</td><td>3</td><td>1</td><td>1</td><td>719</td><td>86</td><td>1979</td><td>22.6</td><td>Challis Station</td><td>1.9</td><td>2015-06-01</td><td>6111</td><td>-32.12057813</td><td>115.993579</td><td>Kelmscott Senior ...</td><td>1.6</td><td>113</td><td>Spark</td><td>awesome</td><td>Spark is 100% awe...</td></tr>\n",
       "</table>\n"
      ],
      "text/plain": [
       "+---------------+----------+------+--------+---------+------+---------+----------+----------+------------+--------------------+------------------------+----------+--------+------------+-----------+--------------------+-----------------------+-------------------+-----+---------+--------------------+\n",
       "|        Address|    Suburb| Price|Bedrooms|Bathrooms|Garage|Land_Area|Floor_Area|Build_Year|Cbd_Distance|     Nearest_Station|Nearest_Station_Distance| Date_Sold|Postcode|    Latitude|  Longitude|      Nearest_School|Nearest_School_Distance|Nearest_School_Rank| Tool|Adjective|               Truth|\n",
       "+---------------+----------+------+--------+---------+------+---------+----------+----------+------------+--------------------+------------------------+----------+--------+------------+-----------+--------------------+-----------------------+-------------------+-----+---------+--------------------+\n",
       "|  1 Acorn Place|South Lake|565000|       4|        2|     2|      600|       160|      2003|        18.3|Cockburn Central ...|                     1.8|2018-09-01|    6164|    -32.1159|  115.84245|Lakeland Senior H...|                    0.8|               null|Spark|  awesome|Spark is 100% awe...|\n",
       "|    1 Addis Way|     Wandi|365000|       3|        2|     2|      351|       139|      2013|        26.9|     Kwinana Station|                     4.9|2019-02-01|    6167|-32.19347028|115.8595535|      Atwell College|                    5.5|                129|Spark|  awesome|Spark is 100% awe...|\n",
       "|1 Ainsley Court|   Camillo|287000|       3|        1|     1|      719|        86|      1979|        22.6|     Challis Station|                     1.9|2015-06-01|    6111|-32.12057813| 115.993579|Kelmscott Senior ...|                    1.6|                113|Spark|  awesome|Spark is 100% awe...|\n",
       "+---------------+----------+------+--------+---------+------+---------+----------+----------+------------+--------------------+------------------------+----------+--------+------------+-----------+--------------------+-----------------------+-------------------+-----+---------+--------------------+"
      ]
     },
     "execution_count": 50,
     "metadata": {},
     "output_type": "execute_result"
    }
   ],
   "source": [
    "# drop() method\n",
    "\n",
    "df = df.drop('New_Column')\n",
    "df.limit(3)"
   ]
  },
  {
   "cell_type": "markdown",
   "metadata": {
    "id": "zt_FtfVfChlq"
   },
   "source": [
    "We can drop multiple columns"
   ]
  },
  {
   "cell_type": "code",
   "execution_count": 51,
   "metadata": {
    "id": "jdOG0GuSB0S0"
   },
   "outputs": [
    {
     "data": {
      "text/html": [
       "<table border='1'>\n",
       "<tr><th>Address</th><th>Suburb</th><th>Price</th><th>Bedrooms</th><th>Bathrooms</th><th>Garage</th><th>Land_Area</th><th>Floor_Area</th><th>Build_Year</th><th>Cbd_Distance</th><th>Nearest_Station</th><th>Nearest_Station_Distance</th><th>Date_Sold</th><th>Postcode</th><th>Latitude</th><th>Longitude</th><th>Nearest_School</th><th>Nearest_School_Distance</th><th>Nearest_School_Rank</th></tr>\n",
       "<tr><td>1 Acorn Place</td><td>South Lake</td><td>565000</td><td>4</td><td>2</td><td>2</td><td>600</td><td>160</td><td>2003</td><td>18.3</td><td>Cockburn Central ...</td><td>1.8</td><td>2018-09-01</td><td>6164</td><td>-32.1159</td><td>115.84245</td><td>Lakeland Senior H...</td><td>0.8</td><td>null</td></tr>\n",
       "<tr><td>1 Addis Way</td><td>Wandi</td><td>365000</td><td>3</td><td>2</td><td>2</td><td>351</td><td>139</td><td>2013</td><td>26.9</td><td>Kwinana Station</td><td>4.9</td><td>2019-02-01</td><td>6167</td><td>-32.19347028</td><td>115.8595535</td><td>Atwell College</td><td>5.5</td><td>129</td></tr>\n",
       "<tr><td>1 Ainsley Court</td><td>Camillo</td><td>287000</td><td>3</td><td>1</td><td>1</td><td>719</td><td>86</td><td>1979</td><td>22.6</td><td>Challis Station</td><td>1.9</td><td>2015-06-01</td><td>6111</td><td>-32.12057813</td><td>115.993579</td><td>Kelmscott Senior ...</td><td>1.6</td><td>113</td></tr>\n",
       "</table>\n"
      ],
      "text/plain": [
       "+---------------+----------+------+--------+---------+------+---------+----------+----------+------------+--------------------+------------------------+----------+--------+------------+-----------+--------------------+-----------------------+-------------------+\n",
       "|        Address|    Suburb| Price|Bedrooms|Bathrooms|Garage|Land_Area|Floor_Area|Build_Year|Cbd_Distance|     Nearest_Station|Nearest_Station_Distance| Date_Sold|Postcode|    Latitude|  Longitude|      Nearest_School|Nearest_School_Distance|Nearest_School_Rank|\n",
       "+---------------+----------+------+--------+---------+------+---------+----------+----------+------------+--------------------+------------------------+----------+--------+------------+-----------+--------------------+-----------------------+-------------------+\n",
       "|  1 Acorn Place|South Lake|565000|       4|        2|     2|      600|       160|      2003|        18.3|Cockburn Central ...|                     1.8|2018-09-01|    6164|    -32.1159|  115.84245|Lakeland Senior H...|                    0.8|               null|\n",
       "|    1 Addis Way|     Wandi|365000|       3|        2|     2|      351|       139|      2013|        26.9|     Kwinana Station|                     4.9|2019-02-01|    6167|-32.19347028|115.8595535|      Atwell College|                    5.5|                129|\n",
       "|1 Ainsley Court|   Camillo|287000|       3|        1|     1|      719|        86|      1979|        22.6|     Challis Station|                     1.9|2015-06-01|    6111|-32.12057813| 115.993579|Kelmscott Senior ...|                    1.6|                113|\n",
       "+---------------+----------+------+--------+---------+------+---------+----------+----------+------------+--------------------+------------------------+----------+--------+------------+-----------+--------------------+-----------------------+-------------------+"
      ]
     },
     "execution_count": 51,
     "metadata": {},
     "output_type": "execute_result"
    }
   ],
   "source": [
    "# drop multiple columns\n",
    "\n",
    "df = df.drop('Tool')\\\n",
    "        .drop('Adjective')\\\n",
    "        .drop('Truth')\n",
    "df.limit(3)"
   ]
  },
  {
   "cell_type": "markdown",
   "metadata": {
    "id": "W2Q3zEilpt1z"
   },
   "source": [
    "### Max, Min, and Avg Property Price"
   ]
  },
  {
   "cell_type": "markdown",
   "metadata": {
    "id": "8TgqjhhpR2-u"
   },
   "source": [
    "Let's find the Min, Max, and Avg house price of each Suburb our data. \n",
    "\n",
    "We will go throgh it with PySpark and Spark SQL."
   ]
  },
  {
   "cell_type": "code",
   "execution_count": 52,
   "metadata": {
    "id": "6T3YepY0TKxC"
   },
   "outputs": [
    {
     "data": {
      "text/html": [
       "<table border='1'>\n",
       "<tr><th>Suburb</th><th>Min_Price</th><th>Max_Price</th><th>Avg_Price</th></tr>\n",
       "<tr><td>Floreat</td><td>725000</td><td>2440000</td><td>1476394</td></tr>\n",
       "<tr><td>City Beach</td><td>665000</td><td>2437000</td><td>1654766</td></tr>\n",
       "<tr><td>Dalkeith</td><td>225441</td><td>2430000</td><td>1951093</td></tr>\n",
       "<tr><td>Peppermint Grove</td><td>520000</td><td>2425000</td><td>1793549</td></tr>\n",
       "<tr><td>Watermans Bay</td><td>340000</td><td>2425000</td><td>1170767</td></tr>\n",
       "</table>\n"
      ],
      "text/plain": [
       "+----------------+---------+---------+---------+\n",
       "|          Suburb|Min_Price|Max_Price|Avg_Price|\n",
       "+----------------+---------+---------+---------+\n",
       "|         Floreat|   725000|  2440000|  1476394|\n",
       "|      City Beach|   665000|  2437000|  1654766|\n",
       "|        Dalkeith|   225441|  2430000|  1951093|\n",
       "|Peppermint Grove|   520000|  2425000|  1793549|\n",
       "|   Watermans Bay|   340000|  2425000|  1170767|\n",
       "+----------------+---------+---------+---------+"
      ]
     },
     "execution_count": 52,
     "metadata": {},
     "output_type": "execute_result"
    }
   ],
   "source": [
    "from pyspark.sql.functions import max, min, avg, ceil, col, desc\n",
    "\n",
    "# let's use groupby to do it:\n",
    "\n",
    "df.groupby('Suburb').agg(min('Price').alias('Min_Price'), \n",
    "                         max('Price').alias('Max_Price'), \n",
    "                         ceil(avg('Price')).alias('Avg_Price')).orderBy(col('Max_Price').desc()).limit(5)"
   ]
  },
  {
   "cell_type": "markdown",
   "metadata": {
    "id": "FFYv4oWWVZZc"
   },
   "source": [
    "Here's the same result now using Spark SQL."
   ]
  },
  {
   "cell_type": "code",
   "execution_count": 53,
   "metadata": {
    "id": "dlz2PpcnvfW6"
   },
   "outputs": [
    {
     "data": {
      "text/html": [
       "<table border='1'>\n",
       "<tr><th>Suburb</th><th>Min_Price</th><th>Max_Price</th><th>Avg_Price</th></tr>\n",
       "<tr><td>Floreat</td><td>725000</td><td>2440000</td><td>1476394</td></tr>\n",
       "<tr><td>City Beach</td><td>665000</td><td>2437000</td><td>1654766</td></tr>\n",
       "<tr><td>Dalkeith</td><td>225441</td><td>2430000</td><td>1951093</td></tr>\n",
       "<tr><td>Peppermint Grove</td><td>520000</td><td>2425000</td><td>1793549</td></tr>\n",
       "<tr><td>Watermans Bay</td><td>340000</td><td>2425000</td><td>1170767</td></tr>\n",
       "</table>\n"
      ],
      "text/plain": [
       "+----------------+---------+---------+---------+\n",
       "|          Suburb|Min_Price|Max_Price|Avg_Price|\n",
       "+----------------+---------+---------+---------+\n",
       "|         Floreat|   725000|  2440000|  1476394|\n",
       "|      City Beach|   665000|  2437000|  1654766|\n",
       "|        Dalkeith|   225441|  2430000|  1951093|\n",
       "|Peppermint Grove|   520000|  2425000|  1793549|\n",
       "|   Watermans Bay|   340000|  2425000|  1170767|\n",
       "+----------------+---------+---------+---------+"
      ]
     },
     "execution_count": 53,
     "metadata": {},
     "output_type": "execute_result"
    }
   ],
   "source": [
    "query_1 = \"\"\"\n",
    "          SELECT \n",
    "            Suburb\n",
    "            ,MIN(Price) Min_Price\n",
    "            ,MAX(Price) Max_Price\n",
    "            ,CEIL(AVG(Price)) Avg_Price\n",
    "          FROM Perth_housing\n",
    "          GROUP BY Suburb \n",
    "          ORDER BY Max_Price DESC\n",
    "          \"\"\"\n",
    "spark.sql(query_1).limit(5)"
   ]
  },
  {
   "cell_type": "markdown",
   "metadata": {
    "id": "jzbEf9BNVzfZ"
   },
   "source": [
    "We can also use PySpark with Window Function to get the same results."
   ]
  },
  {
   "cell_type": "code",
   "execution_count": 54,
   "metadata": {
    "id": "FbjTshRr9l3F"
   },
   "outputs": [
    {
     "data": {
      "text/html": [
       "<table border='1'>\n",
       "<tr><th>Suburb</th><th>Min_Price</th><th>Max_Price</th><th>Avg_Price</th></tr>\n",
       "<tr><td>Floreat</td><td>725000</td><td>2440000</td><td>1476394</td></tr>\n",
       "<tr><td>City Beach</td><td>665000</td><td>2437000</td><td>1654766</td></tr>\n",
       "<tr><td>Dalkeith</td><td>225441</td><td>2430000</td><td>1951093</td></tr>\n",
       "<tr><td>Peppermint Grove</td><td>520000</td><td>2425000</td><td>1793549</td></tr>\n",
       "<tr><td>Watermans Bay</td><td>340000</td><td>2425000</td><td>1170767</td></tr>\n",
       "</table>\n"
      ],
      "text/plain": [
       "+----------------+---------+---------+---------+\n",
       "|          Suburb|Min_Price|Max_Price|Avg_Price|\n",
       "+----------------+---------+---------+---------+\n",
       "|         Floreat|   725000|  2440000|  1476394|\n",
       "|      City Beach|   665000|  2437000|  1654766|\n",
       "|        Dalkeith|   225441|  2430000|  1951093|\n",
       "|Peppermint Grove|   520000|  2425000|  1793549|\n",
       "|   Watermans Bay|   340000|  2425000|  1170767|\n",
       "+----------------+---------+---------+---------+"
      ]
     },
     "execution_count": 54,
     "metadata": {},
     "output_type": "execute_result"
    }
   ],
   "source": [
    "from pyspark.sql.functions import max, min, avg, ceil, col, desc\n",
    "from pyspark.sql.window import Window\n",
    "\n",
    "w = Window().partitionBy('Suburb')\n",
    "\n",
    "df.withColumn('Min_Price', min('Price').over(w)) \\\n",
    "  .withColumn('Max_Price', max('Price').over(w)) \\\n",
    "  .withColumn('Avg_Price', ceil(avg('Price').over(w))) \\\n",
    "  .select('Suburb', 'Min_Price', 'Max_Price', 'Avg_Price').distinct() \\\n",
    "  .orderBy(col('Max_Price').desc()).limit(5)"
   ]
  },
  {
   "cell_type": "markdown",
   "metadata": {
    "id": "sej6KCHNWQMl"
   },
   "source": [
    "Now still the same results with Spark SQL Window Function.\n",
    "\n",
    "SQL can be a powerful tool for Data Professionals due to its simplicity. "
   ]
  },
  {
   "cell_type": "code",
   "execution_count": 55,
   "metadata": {
    "id": "UQtD5yUcvYKj"
   },
   "outputs": [
    {
     "data": {
      "text/html": [
       "<table border='1'>\n",
       "<tr><th>Suburb</th><th>Min_Price</th><th>Max_Price</th><th>Avg_Price</th></tr>\n",
       "<tr><td>Floreat</td><td>725000</td><td>2440000</td><td>1476394</td></tr>\n",
       "<tr><td>City Beach</td><td>665000</td><td>2437000</td><td>1654766</td></tr>\n",
       "<tr><td>Dalkeith</td><td>225441</td><td>2430000</td><td>1951093</td></tr>\n",
       "<tr><td>Peppermint Grove</td><td>520000</td><td>2425000</td><td>1793549</td></tr>\n",
       "<tr><td>Watermans Bay</td><td>340000</td><td>2425000</td><td>1170767</td></tr>\n",
       "</table>\n"
      ],
      "text/plain": [
       "+----------------+---------+---------+---------+\n",
       "|          Suburb|Min_Price|Max_Price|Avg_Price|\n",
       "+----------------+---------+---------+---------+\n",
       "|         Floreat|   725000|  2440000|  1476394|\n",
       "|      City Beach|   665000|  2437000|  1654766|\n",
       "|        Dalkeith|   225441|  2430000|  1951093|\n",
       "|Peppermint Grove|   520000|  2425000|  1793549|\n",
       "|   Watermans Bay|   340000|  2425000|  1170767|\n",
       "+----------------+---------+---------+---------+"
      ]
     },
     "execution_count": 55,
     "metadata": {},
     "output_type": "execute_result"
    }
   ],
   "source": [
    "query_2 = \"\"\" \n",
    "          SELECT \n",
    "            DISTINCT\n",
    "            Suburb\n",
    "            ,MIN(Price) OVER (PARTITION BY Suburb) Min_Price\n",
    "            ,MAX(Price) OVER (PARTITION BY Suburb) Max_Price\n",
    "            ,CEIL(AVG(Price) OVER (PARTITION BY Suburb)) Avg_Price\n",
    "          FROM perth_housing \n",
    "          ORDER BY Max_Price DESC \"\"\"\n",
    "\n",
    "spark.sql(query_2).limit(5)"
   ]
  },
  {
   "cell_type": "markdown",
   "metadata": {
    "id": "T0KV3o5vwoJb"
   },
   "source": [
    "### Compare Group by and Window Function queries in terms of execution "
   ]
  },
  {
   "cell_type": "code",
   "execution_count": 56,
   "metadata": {
    "id": "3-vV6WY8s3fq"
   },
   "outputs": [
    {
     "name": "stdout",
     "output_type": "stream",
     "text": [
      "Group by:\n",
      "11.3 ms ± 372 µs per loop (mean ± std. dev. of 7 runs, 100 loops each)\n",
      "\n",
      "Window Function:\n",
      "14.6 ms ± 481 µs per loop (mean ± std. dev. of 7 runs, 100 loops each)\n"
     ]
    }
   ],
   "source": [
    "query_1 = \"\"\"\n",
    "          SELECT \n",
    "            Suburb\n",
    "            ,MAX(Price) Max_Price\n",
    "            ,MIN(Price) Min_Price\n",
    "          FROM perth_housing\n",
    "          GROUP BY Suburb  \"\"\"\n",
    "\n",
    "query_2 = \"\"\" \n",
    "          SELECT \n",
    "            DISTINCT\n",
    "            Suburb\n",
    "            ,MAX(Price) OVER (PARTITION BY Suburb) Max_Price\n",
    "            ,MIN(Price) OVER (PARTITION BY Suburb) Min_Price\n",
    "          FROM perth_housing \"\"\"\n",
    "\n",
    "print('Group by:')\n",
    "%timeit spark.sql(query_1)\n",
    "print('\\nWindow Function:')\n",
    "%timeit spark.sql(query_2)"
   ]
  },
  {
   "cell_type": "markdown",
   "metadata": {
    "id": "JnM_o3M-ZKQt"
   },
   "source": [
    "Again, this is just for us to get a rough comparisson between both queries."
   ]
  },
  {
   "cell_type": "markdown",
   "metadata": {},
   "source": [
    "### Most expensives houses in each Suburb between Jan/2017 and Dec/2020."
   ]
  },
  {
   "cell_type": "markdown",
   "metadata": {},
   "source": [
    "To do that we can use the Spark SQL Built-in Function FIRST_VALUE."
   ]
  },
  {
   "cell_type": "code",
   "execution_count": 216,
   "metadata": {},
   "outputs": [
    {
     "data": {
      "text/html": [
       "<table border='1'>\n",
       "<tr><th>Suburb</th><th>Address</th><th>Price</th><th>Year_Sold</th></tr>\n",
       "<tr><td>Floreat</td><td>35 Oakdale Street</td><td>2440000</td><td>2018</td></tr>\n",
       "<tr><td>Mosman Park</td><td>8 Briggs Street</td><td>2425000</td><td>2020</td></tr>\n",
       "<tr><td>Applecross</td><td>2A Conon Road</td><td>2410000</td><td>2019</td></tr>\n",
       "<tr><td>Cottesloe</td><td>32 Boreham Street</td><td>2400000</td><td>2019</td></tr>\n",
       "<tr><td>Dalkeith</td><td>29 Hobbs Avenue</td><td>2400000</td><td>2017</td></tr>\n",
       "<tr><td>North Fremantle</td><td>25/1 Corkhill Street</td><td>2400000</td><td>2017</td></tr>\n",
       "<tr><td>Mindarie</td><td>15 Clarecastle Re...</td><td>2400000</td><td>2019</td></tr>\n",
       "<tr><td>Churchlands</td><td>39 Appleberry Street</td><td>2400000</td><td>2017</td></tr>\n",
       "<tr><td>Rossmoyne</td><td>14 Etna Place</td><td>2400000</td><td>2017</td></tr>\n",
       "<tr><td>East Fremantle</td><td>6 Philip Street</td><td>2400000</td><td>2020</td></tr>\n",
       "</table>\n"
      ],
      "text/plain": [
       "+---------------+--------------------+-------+---------+\n",
       "|         Suburb|             Address|  Price|Year_Sold|\n",
       "+---------------+--------------------+-------+---------+\n",
       "|        Floreat|   35 Oakdale Street|2440000|     2018|\n",
       "|    Mosman Park|     8 Briggs Street|2425000|     2020|\n",
       "|     Applecross|       2A Conon Road|2410000|     2019|\n",
       "|      Cottesloe|   32 Boreham Street|2400000|     2019|\n",
       "|       Dalkeith|     29 Hobbs Avenue|2400000|     2017|\n",
       "|North Fremantle|25/1 Corkhill Street|2400000|     2017|\n",
       "|       Mindarie|15 Clarecastle Re...|2400000|     2019|\n",
       "|    Churchlands|39 Appleberry Street|2400000|     2017|\n",
       "|      Rossmoyne|       14 Etna Place|2400000|     2017|\n",
       "| East Fremantle|     6 Philip Street|2400000|     2020|\n",
       "+---------------+--------------------+-------+---------+"
      ]
     },
     "execution_count": 216,
     "metadata": {},
     "output_type": "execute_result"
    }
   ],
   "source": [
    "spark.sql(\"\"\"\n",
    "            SELECT\n",
    "                DISTINCT\n",
    "                Suburb\n",
    "                ,FIRST_VALUE(Address) OVER (PARTITION BY Suburb ORDER BY Price DESC) AS Address\n",
    "                ,FIRST_VALUE(Price) OVER (PARTITION BY Suburb ORDER BY Price DESC) AS Price\n",
    "                ,FIRST_VALUE(EXTRACT(YEAR FROM Date_Sold)) OVER (PARTITION BY Suburb ORDER BY Price DESC) Year_Sold\n",
    "            FROM perth_housing\n",
    "            WHERE Date_Sold BETWEEN '2017-01-01' AND '2020-12-01'\n",
    "            ORDER BY Price DESC\n",
    "            \"\"\").limit(10)"
   ]
  },
  {
   "cell_type": "markdown",
   "metadata": {},
   "source": [
    "# Visualisation  - Python & SQL"
   ]
  },
  {
   "cell_type": "markdown",
   "metadata": {},
   "source": [
    "Let's imagine that we need to develop a function that receives the Suburb and the time span in years that the user wants to search as inputs to be used in a web application for example. \n",
    "\n",
    "The results will be the housing market summary with the number of sold houses and the average prices withing the informed timeframe for a particular Suburb or the Greater Perth Region if the Suburb is not informed.\n",
    "\n",
    "Spark provides us with the flexibility to work with Spark SQL, PySpark DataFrames, and easily convert it to Pandas DataFrames if we need so."
   ]
  },
  {
   "cell_type": "markdown",
   "metadata": {},
   "source": [
    "### Property Market Summary Visualisation"
   ]
  },
  {
   "cell_type": "code",
   "execution_count": 177,
   "metadata": {},
   "outputs": [],
   "source": [
    "def property_market_summary(suburb:'Suburb or None for all Suburbs'=None, \n",
    "                            start_year=1988, \n",
    "                            end_year=2020):\n",
    "\n",
    "    import json\n",
    "    import matplotlib.pyplot as plt\n",
    "    \n",
    "    suburb = None if suburb is None or suburb.strip() == '' else suburb.strip().title()\n",
    "    start_year = int(start_year)\n",
    "    end_year = int(end_year)\n",
    "\n",
    "    dfs = spark.sql(\n",
    "            f\"\"\"\n",
    "            SELECT \n",
    "                {'Suburb,' if suburb is not None else ''}\n",
    "                COUNT(1) Number_of_sold_properties\n",
    "                ,Date_Sold\n",
    "                ,CEIL(AVG(Price)) Average_Price\n",
    "            FROM perth_housing\n",
    "            WHERE Date_Sold BETWEEN TO_DATE('{start_year}', 'yyyy') AND ADD_MONTHS(TO_DATE('{end_year}', 'yyyy'), 12)\n",
    "            GROUP BY {'Suburb,' if suburb is not None else ''} Date_Sold\n",
    "            {'HAVING Suburb = ' + json.dumps(suburb) if suburb is not None else ''}\n",
    "            ORDER BY Date_Sold\n",
    "                \"\"\")\n",
    "    \n",
    "    assert dfs.count() != 0, 'Error: The seach did match any record'\n",
    "    \n",
    "    df_pd = dfs.select('*').toPandas() if suburb is not None else \\\n",
    "              dfs.select('Date_Sold', 'Number_of_sold_properties', 'Average_Price').toPandas()\n",
    "    \n",
    "    with plt.style.context('ggplot'):\n",
    "\n",
    "        fig, (ax1, ax2) = plt.subplots(2, 1, figsize=(15, 8), sharex=False)\n",
    "\n",
    "        x = df_pd['Date_Sold']\n",
    "        y1 = df_pd['Number_of_sold_properties']\n",
    "        ax1.bar(x, y1, width=15, color='g')\n",
    "        ax1.set_ylabel(\"Sold Properties\")\n",
    "        ax1.set_title(\"Number of Sold Properties\" + f\"{' in ' + suburb if suburb is not None else ''}\")\n",
    "        ax1.set_ylim(0, y1.max() * 1.1)\n",
    "        ax1.set_xlim()\n",
    "        ax1.grid(True)\n",
    "\n",
    "        y2 = df_pd['Average_Price']\n",
    "        ax2.plot(x, y2, color='b')\n",
    "        ax2.set_ylabel(\"Average Prices\")\n",
    "        ax2.set_title(\"Average Property Prices (AUD)\" + f\"{' in ' + suburb if suburb is not None else ''}\")\n",
    "        ax2.set_ylim(y2.min() * 0.9, y2.max() * 1.1)\n",
    "        ax2.grid(True)\n",
    "\n",
    "        fig.tight_layout()\n",
    "        plt.show()"
   ]
  },
  {
   "cell_type": "markdown",
   "metadata": {},
   "source": [
    "Now, let's just call the property_market_summary() function and see how Perth is doing from 2015 when I first arrived in Australia to 2021."
   ]
  },
  {
   "cell_type": "code",
   "execution_count": 178,
   "metadata": {
    "scrolled": false
   },
   "outputs": [
    {
     "data": {
      "image/png": "[encoded data removed]",
      "text/plain": [
       "<Figure size 1080x576 with 2 Axes>"
      ]
     },
     "metadata": {},
     "output_type": "display_data"
    }
   ],
   "source": [
    "property_market_summary(start_year=2015, end_year=2021)"
   ]
  },
  {
   "cell_type": "markdown",
   "metadata": {},
   "source": [
    "Suppose I have just won the lottery so I am interested in the houses in City Beach from 2018. Let's check it out."
   ]
  },
  {
   "cell_type": "code",
   "execution_count": 179,
   "metadata": {},
   "outputs": [
    {
     "data": {
      "image/png": "[encoded data removed]",
      "text/plain": [
       "<Figure size 1080x576 with 2 Axes>"
      ]
     },
     "metadata": {},
     "output_type": "display_data"
    }
   ],
   "source": [
    "property_market_summary(suburb='City Beach',start_year=2018, end_year=2021)"
   ]
  },
  {
   "cell_type": "markdown",
   "metadata": {},
   "source": [
    "As we can see, the average house prices in City Beach are much higher when compared to the average prices including all Suburbs. \n",
    "\n",
    "I'll keep trying the Lottery!"
   ]
  },
  {
   "cell_type": "markdown",
   "metadata": {},
   "source": [
    "### West Perth, South Perth, North Perth and, East Perth price comparisson between Jan/2018 and Dec/2020"
   ]
  },
  {
   "cell_type": "markdown",
   "metadata": {},
   "source": [
    "If you are looking for a house closer to the CBD, this Box Plot may help."
   ]
  },
  {
   "cell_type": "code",
   "execution_count": 258,
   "metadata": {},
   "outputs": [
    {
     "data": {
      "image/png": "[encoded data removed]",
      "text/plain": [
       "<Figure size 1080x432 with 1 Axes>"
      ]
     },
     "metadata": {},
     "output_type": "display_data"
    }
   ],
   "source": [
    "df_p = spark.sql(\"\"\"\n",
    "                SELECT\n",
    "                    Suburb\n",
    "                    ,Price\n",
    "                FROM perth_housing\n",
    "                WHERE suburb LIKE '%Perth%' AND Date_Sold BETWEEN '2018-01-01' AND '2020-12-01'\n",
    "            \"\"\").toPandas()\n",
    "\n",
    "import matplotlib.pyplot as plt\n",
    "import seaborn as sns\n",
    "with plt.style.context('ggplot'):\n",
    "    fig, ax = plt.subplots(figsize=(15, 6))\n",
    "    ax = sns.boxplot(x=\"Suburb\", y=\"Price\", data=df_p, palette=\"Paired\")\n",
    "    ax.set_title('Property Prices Box Plot')"
   ]
  },
  {
   "cell_type": "markdown",
   "metadata": {},
   "source": [
    "### 10 first Suburbs in number of sold houses between Jan/2018 and Dec/2020"
   ]
  },
  {
   "cell_type": "markdown",
   "metadata": {},
   "source": [
    "We can just use SQL to query the data and plot the results"
   ]
  },
  {
   "cell_type": "code",
   "execution_count": 255,
   "metadata": {
    "id": "byKtiSHCFfvt",
    "scrolled": false
   },
   "outputs": [
    {
     "data": {
      "image/png": "[encoded data removed]",
      "text/plain": [
       "<Figure size 1080x360 with 1 Axes>"
      ]
     },
     "metadata": {},
     "output_type": "display_data"
    }
   ],
   "source": [
    "df_sold = spark.sql(\"\"\"\n",
    "            SELECT\n",
    "                Suburb\n",
    "                ,Number_of_Sold_Houses\n",
    "            FROM\n",
    "                (\n",
    "                SELECT \n",
    "                    Suburb\n",
    "                    ,COUNT(1) as Number_of_Sold_Houses\n",
    "                    ,RANK() OVER (ORDER BY COUNT(1) DESC) r\n",
    "                FROM  perth_housing \n",
    "                WHERE Date_Sold BETWEEN '2018-01-01' AND '2020-12-01'\n",
    "                GROUP BY Suburb\n",
    "                )\n",
    "            WHERE r <= 10\n",
    "        \"\"\").toPandas()\n",
    "\n",
    "import matplotlib.pyplot as plt\n",
    "import seaborn as sns\n",
    "with plt.style.context('ggplot'):\n",
    "    fig, ax = plt.subplots(figsize=(15, 5))\n",
    "    ax = sns.barplot(x=\"Number_of_Sold_Houses\", y='Suburb', data=df_sold, palette=\"Blues_d\")\n",
    "    ax.set_title('Top 10 Suburb Sellers between 2018 & 2020')\n",
    "    ax.set_xlabel('Number of Properties Sold')\n",
    "pass"
   ]
  },
  {
   "cell_type": "markdown",
   "metadata": {},
   "source": [
    "# Machine Learning - Spark MLlib"
   ]
  },
  {
   "cell_type": "markdown",
   "metadata": {},
   "source": [
    "Another popular aspect of Spark is its ability to perform large scale machine learning with a built-in library of machine learning algorithms called MLlib. \n",
    "\n",
    "MLlib allows for preprocessing, munging, training of models, and making predictions at scale on data.\n",
    "\n",
    "Spark provides a sophisticated machine learning API for performing a variety of machine learning tasks, from classification to regression, clustering to deep learning. \n",
    "\n",
    "To demonstrate this functionality, we will perform some basic regression on our data."
   ]
  },
  {
   "cell_type": "code",
   "execution_count": 62,
   "metadata": {},
   "outputs": [],
   "source": [
    "from pyspark.ml.feature import VectorIndexer\n",
    "from pyspark.ml.evaluation import RegressionEvaluator"
   ]
  },
  {
   "cell_type": "markdown",
   "metadata": {},
   "source": [
    "#### Fetch data"
   ]
  },
  {
   "cell_type": "code",
   "execution_count": 221,
   "metadata": {},
   "outputs": [],
   "source": [
    "data = spark.sql(\"\"\"\n",
    "                SELECT \n",
    "                    Address, Suburb, Bedrooms, Bathrooms, Garage, Land_Area, Floor_Area, Build_Year, \n",
    "                    Cbd_Distance, Nearest_Station, Nearest_Station_Distance\n",
    "                    ,CAST(DATE_FORMAT(Date_Sold, 'y') AS INT) as Year_Sold\n",
    "                    ,CAST(DATE_FORMAT(Date_Sold, 'MM') AS INT) as Month_Sold\n",
    "                    ,Postcode, Latitude,Longitude, Nearest_School, Nearest_School_Distance, Nearest_School_Rank\n",
    "                    ,Price as label\n",
    "                FROM perth_housing\"\"\")"
   ]
  },
  {
   "cell_type": "code",
   "execution_count": 227,
   "metadata": {},
   "outputs": [
    {
     "data": {
      "text/html": [
       "<table border='1'>\n",
       "<tr><th>summary</th><th>Address</th><th>Suburb</th><th>Bedrooms</th><th>Bathrooms</th><th>Garage</th><th>Land_Area</th><th>Floor_Area</th><th>Build_Year</th><th>Cbd_Distance</th><th>Nearest_Station</th><th>Nearest_Station_Distance</th><th>Year_Sold</th><th>Month_Sold</th><th>Postcode</th><th>Latitude</th><th>Longitude</th><th>Nearest_School</th><th>Nearest_School_Distance</th><th>Nearest_School_Rank</th><th>label</th></tr>\n",
       "<tr><td>count</td><td>33656</td><td>33656</td><td>33656</td><td>33656</td><td>33656</td><td>33656</td><td>33656</td><td>33656</td><td>33656</td><td>33656</td><td>33656</td><td>33656</td><td>33656</td><td>33656</td><td>33656</td><td>33656</td><td>33656</td><td>33656</td><td>33656</td><td>33656</td></tr>\n",
       "<tr><td>mean</td><td>null</td><td>null</td><td>3.659109816971714</td><td>1.823062752555265</td><td>2.0336344188257667</td><td>2622.6048252911814</td><td>183.50154504397432</td><td>1803.1862372236749</td><td>19.77741</td><td>null</td><td>4.52341</td><td>2016.6210185405278</td><td>6.764588780603756</td><td>6089.420073686712</td><td>-31.96066391017865</td><td>115.8792646544981</td><td>null</td><td>1.81499</td><td>49.02418588067506</td><td>637072.0057939149</td></tr>\n",
       "<tr><td>stddev</td><td>null</td><td>null</td><td>0.7520381246740109</td><td>0.587426789477283</td><td>1.307281935796926</td><td>12704.952619275484</td><td>72.10298226215527</td><td>580.2921250274674</td><td>11.364368177047881</td><td>null</td><td>4.495047274129324</td><td>3.5054771393179687</td><td>3.3881992457524888</td><td>62.16792117612666</td><td>0.17777952121362295</td><td>0.11813660885272191</td><td>null</td><td>1.7460963920298411</td><td>47.68132973761617</td><td>355825.63273659314</td></tr>\n",
       "<tr><td>min</td><td>1 Acorn Place</td><td>Alexander Heights</td><td>1</td><td>1</td><td>0</td><td>61</td><td>1</td><td>0</td><td>0.7</td><td>Armadale Station</td><td>0.0</td><td>1988</td><td>1</td><td>6003</td><td>-32.47297865</td><td>115.58273</td><td>Alkimos Baptist C...</td><td>0.1</td><td>0</td><td>51000</td></tr>\n",
       "<tr><td>max</td><td>9E Margaret Street</td><td>Yokine</td><td>10</td><td>16</td><td>32</td><td>566786</td><td>870</td><td>2017</td><td>59.8</td><td>Woodbridge Station</td><td>35.5</td><td>2020</td><td>12</td><td>6558</td><td>-31.45745</td><td>116.343201</td><td>Youth Futures Com...</td><td>23.3</td><td>139</td><td>2440000</td></tr>\n",
       "</table>\n"
      ],
      "text/plain": [
       "+-------+------------------+-----------------+------------------+-----------------+------------------+------------------+------------------+------------------+------------------+------------------+------------------------+------------------+------------------+-----------------+-------------------+-------------------+--------------------+-----------------------+-------------------+------------------+\n",
       "|summary|           Address|           Suburb|          Bedrooms|        Bathrooms|            Garage|         Land_Area|        Floor_Area|        Build_Year|      Cbd_Distance|   Nearest_Station|Nearest_Station_Distance|         Year_Sold|        Month_Sold|         Postcode|           Latitude|          Longitude|      Nearest_School|Nearest_School_Distance|Nearest_School_Rank|             label|\n",
       "+-------+------------------+-----------------+------------------+-----------------+------------------+------------------+------------------+------------------+------------------+------------------+------------------------+------------------+------------------+-----------------+-------------------+-------------------+--------------------+-----------------------+-------------------+------------------+\n",
       "|  count|             33656|            33656|             33656|            33656|             33656|             33656|             33656|             33656|             33656|             33656|                   33656|             33656|             33656|            33656|              33656|              33656|               33656|                  33656|              33656|             33656|\n",
       "|   mean|              null|             null| 3.659109816971714|1.823062752555265|2.0336344188257667|2622.6048252911814|183.50154504397432|1803.1862372236749|          19.77741|              null|                 4.52341|2016.6210185405278| 6.764588780603756|6089.420073686712| -31.96066391017865|  115.8792646544981|                null|                1.81499|  49.02418588067506| 637072.0057939149|\n",
       "| stddev|              null|             null|0.7520381246740109|0.587426789477283| 1.307281935796926|12704.952619275484| 72.10298226215527| 580.2921250274674|11.364368177047881|              null|       4.495047274129324|3.5054771393179687|3.3881992457524888|62.16792117612666|0.17777952121362295|0.11813660885272191|                null|     1.7460963920298411|  47.68132973761617|355825.63273659314|\n",
       "|    min|     1 Acorn Place|Alexander Heights|                 1|                1|                 0|                61|                 1|                 0|               0.7|  Armadale Station|                     0.0|              1988|                 1|             6003|       -32.47297865|          115.58273|Alkimos Baptist C...|                    0.1|                  0|             51000|\n",
       "|    max|9E Margaret Street|           Yokine|                10|               16|                32|            566786|               870|              2017|              59.8|Woodbridge Station|                    35.5|              2020|                12|             6558|          -31.45745|         116.343201|Youth Futures Com...|                   23.3|                139|           2440000|\n",
       "+-------+------------------+-----------------+------------------+-----------------+------------------+------------------+------------------+------------------+------------------+------------------+------------------------+------------------+------------------+-----------------+-------------------+-------------------+--------------------+-----------------------+-------------------+------------------+"
      ]
     },
     "execution_count": 227,
     "metadata": {},
     "output_type": "execute_result"
    }
   ],
   "source": [
    "data.describe()"
   ]
  },
  {
   "cell_type": "markdown",
   "metadata": {},
   "source": [
    "#### String Indexer"
   ]
  },
  {
   "cell_type": "code",
   "execution_count": 64,
   "metadata": {},
   "outputs": [],
   "source": [
    "from pyspark.ml.feature import StringIndexer\n",
    "\n",
    "categorical_columns_in = ['Address', 'Suburb', 'Nearest_Station', 'Postcode', 'Nearest_School']\n",
    "categorical_columns_out = [column + \"Index\" for column in categorical_columns_in]\n",
    "\n",
    "indexer = StringIndexer(inputCols=categorical_columns_in, \n",
    "                        outputCols=categorical_columns_out)\n",
    "\n",
    "indexed = indexer.fit(data).transform(data)"
   ]
  },
  {
   "cell_type": "markdown",
   "metadata": {},
   "source": [
    "#### One Hot Encoder"
   ]
  },
  {
   "cell_type": "code",
   "execution_count": 65,
   "metadata": {},
   "outputs": [],
   "source": [
    "from pyspark.ml.feature import OneHotEncoder\n",
    "\n",
    "encoder_columns_in = categorical_columns_out\n",
    "encoder_columns_out = [column.replace('Index', 'Vec') for column in encoder_columns_in]\n",
    "\n",
    "encoder = OneHotEncoder(inputCols=encoder_columns_in,\n",
    "                        outputCols=encoder_columns_out)\n",
    "\n",
    "model = encoder.fit(indexed)\n",
    "encoded = model.transform(indexed)"
   ]
  },
  {
   "cell_type": "markdown",
   "metadata": {},
   "source": [
    "#### Cast data types"
   ]
  },
  {
   "cell_type": "code",
   "execution_count": 66,
   "metadata": {},
   "outputs": [],
   "source": [
    "from pyspark.sql.types import DoubleType\n",
    "\n",
    "continuous_columns=['Land_Area', 'Floor_Area', 'Cbd_Distance', 'Nearest_Station_Distance',\n",
    "                    'Latitude', 'Longitude', 'Nearest_School_Distance']\n",
    "\n",
    "for column in continuous_columns:\n",
    "    \n",
    "    encoded = encoded.withColumn(column, encoded[column].cast(DoubleType()))"
   ]
  },
  {
   "cell_type": "markdown",
   "metadata": {},
   "source": [
    "#### Vector Assembler"
   ]
  },
  {
   "cell_type": "code",
   "execution_count": 67,
   "metadata": {},
   "outputs": [],
   "source": [
    "###\n",
    "from pyspark.ml.feature import VectorAssembler\n",
    "\n",
    "features_list = ['AddressVec', 'SuburbVec', 'Bedrooms', 'Bathrooms', 'Garage', 'Land_Area', 'Floor_Area', \n",
    "                 'Build_Year', 'Cbd_Distance', 'Nearest_StationVec', 'Nearest_Station_Distance', 'Year_Sold', \n",
    "                 'Month_Sold', 'PostcodeVec', 'Latitude', 'Longitude', 'Nearest_SchoolVec', \n",
    "                 'Nearest_School_Distance', 'Nearest_School_Rank']\n",
    "\n",
    "\n",
    "vectorAssembler = VectorAssembler(inputCols=features_list,\n",
    "                                  outputCol=\"features\")\n",
    "                                  \n",
    "features_vectorized = vectorAssembler.transform(encoded)"
   ]
  },
  {
   "cell_type": "markdown",
   "metadata": {},
   "source": [
    "#### Normalizer"
   ]
  },
  {
   "cell_type": "code",
   "execution_count": 68,
   "metadata": {},
   "outputs": [],
   "source": [
    "from pyspark.ml.feature import Normalizer\n",
    "\n",
    "normalizer = Normalizer(inputCol=\"features\", outputCol=\"features_norm\", p=1.0)\n",
    "\n",
    "l1NormData = normalizer.transform(features_vectorized)"
   ]
  },
  {
   "cell_type": "code",
   "execution_count": 69,
   "metadata": {},
   "outputs": [
    {
     "name": "stdout",
     "output_type": "stream",
     "text": [
      "+------+--------------------+\n",
      "| label|       features_norm|\n",
      "+------+--------------------+\n",
      "|565000|(34238,[89,33613,...|\n",
      "|365000|(34238,[90,33753,...|\n",
      "|287000|(34238,[91,33663,...|\n",
      "|255000|(34238,[92,33713,...|\n",
      "|325000|(34238,[93,33614,...|\n",
      "+------+--------------------+\n",
      "only showing top 5 rows\n",
      "\n"
     ]
    }
   ],
   "source": [
    "df_ml = l1NormData.select('label', 'features_norm')\n",
    "df_ml.show(5)"
   ]
  },
  {
   "cell_type": "markdown",
   "metadata": {},
   "source": [
    "#### Split data into trainingData and testData"
   ]
  },
  {
   "cell_type": "code",
   "execution_count": 70,
   "metadata": {},
   "outputs": [],
   "source": [
    "(trainingData, testData) = df_ml.randomSplit([0.8, 0.2])"
   ]
  },
  {
   "cell_type": "markdown",
   "metadata": {},
   "source": [
    "### Random Forest Regression"
   ]
  },
  {
   "cell_type": "code",
   "execution_count": 74,
   "metadata": {},
   "outputs": [],
   "source": [
    "from pyspark.ml.regression import RandomForestRegressor\n",
    "from pyspark.ml.evaluation import RegressionEvaluator\n",
    "from pyspark.ml.tuning import ParamGridBuilder, CrossValidator\n",
    "from pyspark.ml import Pipeline\n",
    "\n",
    "\n",
    "rf = RandomForestRegressor(featuresCol='features_norm', labelCol='label')\n",
    "\n",
    "pipeline = Pipeline(stages=[rf])\n",
    "\n",
    "rf_evaluator = RegressionEvaluator(labelCol=\"label\", predictionCol=\"prediction\", metricName=\"rmse\")\n",
    "\n",
    "paramGrid = (ParamGridBuilder() \n",
    "                .addGrid(rf.maxDepth, [2, 5, 10]) \n",
    "                .addGrid(rf.maxBins, [5, 10, 20]) \n",
    "                .addGrid(rf.numTrees, [2, 5, 10]) \n",
    "                .build())\n",
    "\n",
    "cvmodel = CrossValidator(estimator = pipeline,\n",
    "                        estimatorParamMaps = paramGrid,\n",
    "                        evaluator = rf_evaluator,\n",
    "                        numFolds = 5)\n",
    "\n",
    "rf_model = cvmodel.fit(trainingData)\n",
    "\n",
    "rf_predictions = rf_model.transform(testData)\n",
    "\n",
    "display(rf_predictions.select(\"prediction\", \"label\", \"features_norm\").limit(5))\n",
    "\n",
    "\n",
    "rf_evaluator = RegressionEvaluator(labelCol=\"label\", predictionCol=\"prediction\", metricName=\"rmse\")\n",
    "rmse = rf_evaluator.evaluate(rf_predictions)\n",
    "rf_evaluator = RegressionEvaluator(labelCol=\"label\", predictionCol=\"prediction\", metricName=\"r2\")\n",
    "r2 = rf_evaluator.evaluate(rf_predictions)\n",
    "rf_evaluator = RegressionEvaluator(labelCol=\"label\", predictionCol=\"prediction\", metricName=\"mae\")\n",
    "mae = rf_evaluator.evaluate(rf_predictions)\n",
    "\n",
    "print(f'Root Mean Squared Error (RMSE) on test data = {rmse}')\n",
    "print(f'R Square (r2) on test data = {r2}')\n",
    "print(f'Mean Absolute Error (MAE) on test data = {mae}')"
   ]
  },
  {
   "cell_type": "markdown",
   "metadata": {},
   "source": [
    "### Linear Regression"
   ]
  },
  {
   "cell_type": "code",
   "execution_count": 72,
   "metadata": {},
   "outputs": [
    {
     "data": {
      "text/html": [
       "<table border='1'>\n",
       "<tr><th>prediction</th><th>label</th></tr>\n",
       "<tr><td>702779.7367630956</td><td>52000</td></tr>\n",
       "<tr><td>353978.3918355361</td><td>60000</td></tr>\n",
       "<tr><td>558756.6402082352</td><td>65000</td></tr>\n",
       "<tr><td>402620.41852351674</td><td>66000</td></tr>\n",
       "<tr><td>545717.9512600253</td><td>75000</td></tr>\n",
       "</table>\n"
      ],
      "text/plain": [
       "+------------------+-----+\n",
       "|        prediction|label|\n",
       "+------------------+-----+\n",
       "| 702779.7367630956|52000|\n",
       "| 353978.3918355361|60000|\n",
       "| 558756.6402082352|65000|\n",
       "|402620.41852351674|66000|\n",
       "| 545717.9512600253|75000|\n",
       "+------------------+-----+"
      ]
     },
     "metadata": {},
     "output_type": "display_data"
    },
    {
     "name": "stdout",
     "output_type": "stream",
     "text": [
      "Root Mean Squared Error (RMSE) on test data = 205047.19612306842\n",
      "R Square (r2) on test data = 0.6701650817043956\n",
      "Mean Absolute Error (MAE) on test data = 130215.96474851678\n"
     ]
    }
   ],
   "source": [
    "from pyspark.ml.regression import LinearRegression\n",
    "from pyspark.ml import Pipeline\n",
    "\n",
    "lr = LinearRegression(featuresCol = 'features_norm', labelCol='label', maxIter=10, regParam=0.3, elasticNetParam=0.8)\n",
    "\n",
    "pipeline = Pipeline(stages=[lr])\n",
    "\n",
    "lr_model = pipeline.fit(trainingData)\n",
    "\n",
    "lr_predictions = lr_model.transform(testData)\n",
    "\n",
    "display(lr_predictions.select(\"prediction\", \"label\").limit(5))\n",
    "\n",
    "from pyspark.ml.evaluation import RegressionEvaluator\n",
    "\n",
    "lr_evaluator = RegressionEvaluator(labelCol=\"label\", predictionCol=\"prediction\", metricName=\"rmse\")\n",
    "rmse = lr_evaluator.evaluate(lr_predictions)\n",
    "lr_evaluator = RegressionEvaluator(labelCol=\"label\", predictionCol=\"prediction\", metricName=\"r2\")\n",
    "r2 = lr_evaluator.evaluate(lr_predictions)\n",
    "lr_evaluator = RegressionEvaluator(labelCol=\"label\", predictionCol=\"prediction\", metricName=\"mae\")\n",
    "mae = lr_evaluator.evaluate(lr_predictions)\n",
    "\n",
    "print(f'Root Mean Squared Error (RMSE) on test data = {rmse}')\n",
    "print(f'R Square (r2) on test data = {r2}')\n",
    "print(f'Mean Absolute Error (MAE) on test data = {mae}')"
   ]
  },
  {
   "cell_type": "markdown",
   "metadata": {},
   "source": [
    "### Gradient-boosted Tree Regression"
   ]
  },
  {
   "cell_type": "code",
   "execution_count": 73,
   "metadata": {},
   "outputs": [
    {
     "data": {
      "text/html": [
       "<table border='1'>\n",
       "<tr><th>prediction</th><th>label</th></tr>\n",
       "<tr><td>804343.6835146605</td><td>52000</td></tr>\n",
       "<tr><td>336712.1271661885</td><td>60000</td></tr>\n",
       "<tr><td>613538.628510887</td><td>65000</td></tr>\n",
       "<tr><td>325859.9416256783</td><td>66000</td></tr>\n",
       "<tr><td>538745.278262857</td><td>75000</td></tr>\n",
       "</table>\n"
      ],
      "text/plain": [
       "+-----------------+-----+\n",
       "|       prediction|label|\n",
       "+-----------------+-----+\n",
       "|804343.6835146605|52000|\n",
       "|336712.1271661885|60000|\n",
       "| 613538.628510887|65000|\n",
       "|325859.9416256783|66000|\n",
       "| 538745.278262857|75000|\n",
       "+-----------------+-----+"
      ]
     },
     "metadata": {},
     "output_type": "display_data"
    },
    {
     "name": "stdout",
     "output_type": "stream",
     "text": [
      "Root Mean Squared Error (RMSE) on test data = 217042.06628333832\n",
      "R Square (r2) on test data = 0.6304469495741027\n",
      "Mean Absolute Error (MAE) on test data = 148134.85839007975\n"
     ]
    }
   ],
   "source": [
    "from pyspark.ml.regression import GBTRegressor\n",
    "from pyspark.ml import Pipeline\n",
    "\n",
    "gbt = GBTRegressor(featuresCol = 'features_norm', labelCol = 'label', maxIter=10)\n",
    "\n",
    "pipeline = Pipeline(stages=[gbt])\n",
    "\n",
    "gbt_model = pipeline.fit(trainingData)\n",
    "\n",
    "gbt_predictions = gbt_model.transform(testData)\n",
    "\n",
    "display(gbt_predictions.select('prediction', 'label').limit(5))\n",
    "\n",
    "from pyspark.ml.evaluation import RegressionEvaluator\n",
    "\n",
    "gbt_evaluator = RegressionEvaluator(labelCol=\"label\", predictionCol=\"prediction\", metricName=\"rmse\")\n",
    "rmse = gbt_evaluator.evaluate(gbt_predictions)\n",
    "gbt_evaluator = RegressionEvaluator(labelCol=\"label\", predictionCol=\"prediction\", metricName=\"r2\")\n",
    "r2 = gbt_evaluator.evaluate(gbt_predictions)\n",
    "gbt_evaluator = RegressionEvaluator(labelCol=\"label\", predictionCol=\"prediction\", metricName=\"mae\")\n",
    "mae = gbt_evaluator.evaluate(gbt_predictions)\n",
    "\n",
    "print(f'Root Mean Squared Error (RMSE) on test data = {rmse}')\n",
    "print(f'R Square (r2) on test data = {r2}')\n",
    "print(f'Mean Absolute Error (MAE) on test data = {mae}')"
   ]
  }
 ],
 "metadata": {
  "colab": {
   "collapsed_sections": [
    "M4FWHjc8dmV3",
    "VF2OQ6beeYDs",
    "wbpK9IbSIUQ6"
   ],
   "name": "perth_housing.ipynb",
   "provenance": []
  },
  "kernelspec": {
   "display_name": "Python 3",
   "language": "python",
   "name": "python3"
  },
  "language_info": {
   "codemirror_mode": {
    "name": "ipython",
    "version": 3
   },
   "file_extension": ".py",
   "mimetype": "text/x-python",
   "name": "python",
   "nbconvert_exporter": "python",
   "pygments_lexer": "ipython3",
   "version": "3.9.4"
  }
 },
 "nbformat": 4,
 "nbformat_minor": 1
}
