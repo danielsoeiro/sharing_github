{
  "nbformat": 4,
  "nbformat_minor": 0,
  "metadata": {
    "colab": {
      "name": "simple_web_scraper.ipynb",
      "provenance": []
    },
    "kernelspec": {
      "display_name": "Python 3",
      "name": "python3"
    },
    "language_info": {
      "name": "python"
    }
  },
  "cells": [
    {
      "cell_type": "markdown",
      "metadata": {
        "id": "Qqgj3uIi_VJ8"
      },
      "source": [
        "# Web Scraper"
      ]
    },
    {
      "cell_type": "code",
      "metadata": {
        "id": "u6dWYTDkeNjG"
      },
      "source": [
        "import requests\n",
        "from bs4 import BeautifulSoup\n",
        "import pandas as pd"
      ],
      "execution_count": 33,
      "outputs": []
    },
    {
      "cell_type": "markdown",
      "metadata": {
        "id": "uqvpZmYF_cRw"
      },
      "source": [
        " The function below collects the primary school rank table form:\n",
        "\n",
        " https://clueylearning.com.au/en/school-rankings/top-primary-schools/wa/'\n",
        "\n",
        " It can be converted to json file or pandas DataFrame."
      ]
    },
    {
      "cell_type": "code",
      "metadata": {
        "id": "buqccMda56X2"
      },
      "source": [
        "def table_web_scraping(url='https://clueylearning.com.au/en/school-rankings/top-primary-schools/wa/', json=False):\n",
        "\n",
        "  page = requests.get(url)\n",
        "\n",
        "  soup = BeautifulSoup(page.content, 'lxml')\n",
        "  table = soup.find_all('table')\n",
        "\n",
        "  df = pd.read_html(str(table))[0]\n",
        "\n",
        "  if json:\n",
        "    return df.to_json(orient='records')\n",
        "  return df"
      ],
      "execution_count": 69,
      "outputs": []
    },
    {
      "cell_type": "code",
      "metadata": {
        "colab": {
          "base_uri": "https://localhost:8080/",
          "height": 521
        },
        "id": "do3JNG3E56Vs",
        "outputId": "a69ec5fa-0258-42ed-b1b1-b69fec4187f6"
      },
      "source": [
        "df = table_web_scraping()\n",
        "df"
      ],
      "execution_count": 70,
      "outputs": [
        {
          "output_type": "execute_result",
          "data": {
            "text/html": [
              "<div>\n",
              "<style scoped>\n",
              "    .dataframe tbody tr th:only-of-type {\n",
              "        vertical-align: middle;\n",
              "    }\n",
              "\n",
              "    .dataframe tbody tr th {\n",
              "        vertical-align: top;\n",
              "    }\n",
              "\n",
              "    .dataframe thead th {\n",
              "        text-align: right;\n",
              "    }\n",
              "</style>\n",
              "<table border=\"1\" class=\"dataframe\">\n",
              "  <thead>\n",
              "    <tr style=\"text-align: right;\">\n",
              "      <th></th>\n",
              "      <th>#</th>\n",
              "      <th>School Name</th>\n",
              "      <th>Search Volume</th>\n",
              "      <th>Keyword Searched</th>\n",
              "      <th>School Type</th>\n",
              "      <th>Location</th>\n",
              "      <th>Postcode</th>\n",
              "      <th>State</th>\n",
              "      <th>My School URL</th>\n",
              "    </tr>\n",
              "  </thead>\n",
              "  <tbody>\n",
              "    <tr>\n",
              "      <th>0</th>\n",
              "      <td>1</td>\n",
              "      <td>Oberthur Primary School</td>\n",
              "      <td>600</td>\n",
              "      <td>oberthur primary school</td>\n",
              "      <td>Government</td>\n",
              "      <td>Bull Creek</td>\n",
              "      <td>6149</td>\n",
              "      <td>WA</td>\n",
              "      <td>https://www.myschool.edu.au/school/48641</td>\n",
              "    </tr>\n",
              "    <tr>\n",
              "      <th>1</th>\n",
              "      <td>2</td>\n",
              "      <td>Floreat Park Primary School</td>\n",
              "      <td>150</td>\n",
              "      <td>floreat park primary school</td>\n",
              "      <td>Government</td>\n",
              "      <td>Floreat</td>\n",
              "      <td>6014</td>\n",
              "      <td>WA</td>\n",
              "      <td>https://www.myschool.edu.au/school/48367</td>\n",
              "    </tr>\n",
              "    <tr>\n",
              "      <th>2</th>\n",
              "      <td>3</td>\n",
              "      <td>International School of Western Australia</td>\n",
              "      <td>500</td>\n",
              "      <td>international school of western australia</td>\n",
              "      <td>Independent</td>\n",
              "      <td>City Beach</td>\n",
              "      <td>6015</td>\n",
              "      <td>WA</td>\n",
              "      <td>https://www.myschool.edu.au/school/49142</td>\n",
              "    </tr>\n",
              "    <tr>\n",
              "      <th>3</th>\n",
              "      <td>4</td>\n",
              "      <td>Hale School</td>\n",
              "      <td>2700</td>\n",
              "      <td>hale school</td>\n",
              "      <td>Independent</td>\n",
              "      <td>Wembley Downs</td>\n",
              "      <td>6019</td>\n",
              "      <td>WA</td>\n",
              "      <td>https://www.myschool.edu.au/school/49030</td>\n",
              "    </tr>\n",
              "    <tr>\n",
              "      <th>4</th>\n",
              "      <td>5</td>\n",
              "      <td>Nedlands Primary School</td>\n",
              "      <td>500</td>\n",
              "      <td>nedlands primary school</td>\n",
              "      <td>Government</td>\n",
              "      <td>Nedlands</td>\n",
              "      <td>6009</td>\n",
              "      <td>WA</td>\n",
              "      <td>https://www.myschool.edu.au/school/48468</td>\n",
              "    </tr>\n",
              "    <tr>\n",
              "      <th>...</th>\n",
              "      <td>...</td>\n",
              "      <td>...</td>\n",
              "      <td>...</td>\n",
              "      <td>...</td>\n",
              "      <td>...</td>\n",
              "      <td>...</td>\n",
              "      <td>...</td>\n",
              "      <td>...</td>\n",
              "      <td>...</td>\n",
              "    </tr>\n",
              "    <tr>\n",
              "      <th>145</th>\n",
              "      <td>146</td>\n",
              "      <td>Lake Gwelup Primary School</td>\n",
              "      <td>250</td>\n",
              "      <td>lake gwelup primary school</td>\n",
              "      <td>Government</td>\n",
              "      <td>Gwelup</td>\n",
              "      <td>6018</td>\n",
              "      <td>WA</td>\n",
              "      <td>https://www.myschool.edu.au/school/48424</td>\n",
              "    </tr>\n",
              "    <tr>\n",
              "      <th>146</th>\n",
              "      <td>147</td>\n",
              "      <td>The Montessori School</td>\n",
              "      <td>40</td>\n",
              "      <td>the montessori school</td>\n",
              "      <td>Independent</td>\n",
              "      <td>Kingsley</td>\n",
              "      <td>6026</td>\n",
              "      <td>WA</td>\n",
              "      <td>https://www.myschool.edu.au/school/49029</td>\n",
              "    </tr>\n",
              "    <tr>\n",
              "      <th>147</th>\n",
              "      <td>148</td>\n",
              "      <td>Our Lady of Mount Carmel School</td>\n",
              "      <td>150</td>\n",
              "      <td>our lady of mount carmel school</td>\n",
              "      <td>Catholic</td>\n",
              "      <td>Hilton</td>\n",
              "      <td>6163</td>\n",
              "      <td>WA</td>\n",
              "      <td>https://www.myschool.edu.au/school/48900</td>\n",
              "    </tr>\n",
              "    <tr>\n",
              "      <th>148</th>\n",
              "      <td>149</td>\n",
              "      <td>Highgate Primary School</td>\n",
              "      <td>1800</td>\n",
              "      <td>highgate primary school</td>\n",
              "      <td>Government</td>\n",
              "      <td>Highgate</td>\n",
              "      <td>6003</td>\n",
              "      <td>WA</td>\n",
              "      <td>https://www.myschool.edu.au/school/48390</td>\n",
              "    </tr>\n",
              "    <tr>\n",
              "      <th>149</th>\n",
              "      <td>150</td>\n",
              "      <td>Woodlands Primary School</td>\n",
              "      <td>900</td>\n",
              "      <td>woodlands primary school</td>\n",
              "      <td>Government</td>\n",
              "      <td>Woodlands</td>\n",
              "      <td>6018</td>\n",
              "      <td>WA</td>\n",
              "      <td>https://www.myschool.edu.au/school/48546</td>\n",
              "    </tr>\n",
              "  </tbody>\n",
              "</table>\n",
              "<p>150 rows × 9 columns</p>\n",
              "</div>"
            ],
            "text/plain": [
              "       #  ...                             My School URL\n",
              "0      1  ...  https://www.myschool.edu.au/school/48641\n",
              "1      2  ...  https://www.myschool.edu.au/school/48367\n",
              "2      3  ...  https://www.myschool.edu.au/school/49142\n",
              "3      4  ...  https://www.myschool.edu.au/school/49030\n",
              "4      5  ...  https://www.myschool.edu.au/school/48468\n",
              "..   ...  ...                                       ...\n",
              "145  146  ...  https://www.myschool.edu.au/school/48424\n",
              "146  147  ...  https://www.myschool.edu.au/school/49029\n",
              "147  148  ...  https://www.myschool.edu.au/school/48900\n",
              "148  149  ...  https://www.myschool.edu.au/school/48390\n",
              "149  150  ...  https://www.myschool.edu.au/school/48546\n",
              "\n",
              "[150 rows x 9 columns]"
            ]
          },
          "metadata": {
            "tags": []
          },
          "execution_count": 70
        }
      ]
    }
  ]
}